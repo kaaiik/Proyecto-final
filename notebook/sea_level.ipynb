{
 "cells": [
  {
   "cell_type": "markdown",
   "id": "124f26e9",
   "metadata": {},
   "source": [
    "# Importación de librerías"
   ]
  },
  {
   "cell_type": "code",
   "execution_count": 1,
   "id": "1ef9d97d",
   "metadata": {},
   "outputs": [
    {
     "name": "stderr",
     "output_type": "stream",
     "text": [
      "Importing plotly failed. Interactive plots will not work.\n"
     ]
    }
   ],
   "source": [
    "import sys\n",
    "sys.path.append(\"../\")\n",
    "\n",
    "from src.func_aux import *"
   ]
  },
  {
   "cell_type": "code",
   "execution_count": 2,
   "id": "f3778748",
   "metadata": {},
   "outputs": [],
   "source": [
    "%matplotlib inline\n",
    "plt.rcParams['animation.embed_limit'] = 2**128"
   ]
  },
  {
   "cell_type": "markdown",
   "id": "028b370f",
   "metadata": {},
   "source": [
    "# Exploración de datos"
   ]
  },
  {
   "cell_type": "code",
   "execution_count": 3,
   "id": "6d255d8c",
   "metadata": {},
   "outputs": [
    {
     "data": {
      "text/html": [
       "<div>\n",
       "<style scoped>\n",
       "    .dataframe tbody tr th:only-of-type {\n",
       "        vertical-align: middle;\n",
       "    }\n",
       "\n",
       "    .dataframe tbody tr th {\n",
       "        vertical-align: top;\n",
       "    }\n",
       "\n",
       "    .dataframe thead th {\n",
       "        text-align: right;\n",
       "    }\n",
       "</style>\n",
       "<table border=\"1\" class=\"dataframe\">\n",
       "  <thead>\n",
       "    <tr style=\"text-align: right;\">\n",
       "      <th></th>\n",
       "      <th>Time</th>\n",
       "      <th>GMSL</th>\n",
       "      <th>GMSL uncertainty</th>\n",
       "    </tr>\n",
       "  </thead>\n",
       "  <tbody>\n",
       "    <tr>\n",
       "      <th>0</th>\n",
       "      <td>1880-01-15</td>\n",
       "      <td>-183.0</td>\n",
       "      <td>24.2</td>\n",
       "    </tr>\n",
       "    <tr>\n",
       "      <th>1</th>\n",
       "      <td>1880-02-15</td>\n",
       "      <td>-171.1</td>\n",
       "      <td>24.2</td>\n",
       "    </tr>\n",
       "    <tr>\n",
       "      <th>2</th>\n",
       "      <td>1880-03-15</td>\n",
       "      <td>-164.3</td>\n",
       "      <td>24.2</td>\n",
       "    </tr>\n",
       "    <tr>\n",
       "      <th>3</th>\n",
       "      <td>1880-04-15</td>\n",
       "      <td>-158.2</td>\n",
       "      <td>24.2</td>\n",
       "    </tr>\n",
       "    <tr>\n",
       "      <th>4</th>\n",
       "      <td>1880-05-15</td>\n",
       "      <td>-158.7</td>\n",
       "      <td>24.2</td>\n",
       "    </tr>\n",
       "  </tbody>\n",
       "</table>\n",
       "</div>"
      ],
      "text/plain": [
       "         Time   GMSL  GMSL uncertainty\n",
       "0  1880-01-15 -183.0              24.2\n",
       "1  1880-02-15 -171.1              24.2\n",
       "2  1880-03-15 -164.3              24.2\n",
       "3  1880-04-15 -158.2              24.2\n",
       "4  1880-05-15 -158.7              24.2"
      ]
     },
     "execution_count": 3,
     "metadata": {},
     "output_type": "execute_result"
    }
   ],
   "source": [
    "sea = pd.read_csv('../data/nivel_mar.csv') #Global Mean Sea Level\n",
    "sea.head()"
   ]
  },
  {
   "cell_type": "code",
   "execution_count": 4,
   "id": "bf307dd9",
   "metadata": {},
   "outputs": [
    {
     "name": "stdout",
     "output_type": "stream",
     "text": [
      "<class 'pandas.core.frame.DataFrame'>\n",
      "RangeIndex: 1608 entries, 0 to 1607\n",
      "Data columns (total 3 columns):\n",
      " #   Column            Non-Null Count  Dtype  \n",
      "---  ------            --------------  -----  \n",
      " 0   Time              1608 non-null   object \n",
      " 1   GMSL              1608 non-null   float64\n",
      " 2   GMSL uncertainty  1608 non-null   float64\n",
      "dtypes: float64(2), object(1)\n",
      "memory usage: 37.8+ KB\n"
     ]
    }
   ],
   "source": [
    "sea.info()"
   ]
  },
  {
   "cell_type": "code",
   "execution_count": 5,
   "id": "1a2d695d",
   "metadata": {},
   "outputs": [
    {
     "data": {
      "text/html": [
       "<div>\n",
       "<style scoped>\n",
       "    .dataframe tbody tr th:only-of-type {\n",
       "        vertical-align: middle;\n",
       "    }\n",
       "\n",
       "    .dataframe tbody tr th {\n",
       "        vertical-align: top;\n",
       "    }\n",
       "\n",
       "    .dataframe thead th {\n",
       "        text-align: right;\n",
       "    }\n",
       "</style>\n",
       "<table border=\"1\" class=\"dataframe\">\n",
       "  <thead>\n",
       "    <tr style=\"text-align: right;\">\n",
       "      <th></th>\n",
       "      <th>Time</th>\n",
       "      <th>GMSL</th>\n",
       "      <th>GMSL uncertainty</th>\n",
       "    </tr>\n",
       "    <tr>\n",
       "      <th>Time</th>\n",
       "      <th></th>\n",
       "      <th></th>\n",
       "      <th></th>\n",
       "    </tr>\n",
       "  </thead>\n",
       "  <tbody>\n",
       "    <tr>\n",
       "      <th>1880-01-15</th>\n",
       "      <td>1880-01-15</td>\n",
       "      <td>-183.0</td>\n",
       "      <td>24.2</td>\n",
       "    </tr>\n",
       "    <tr>\n",
       "      <th>1880-02-15</th>\n",
       "      <td>1880-02-15</td>\n",
       "      <td>-171.1</td>\n",
       "      <td>24.2</td>\n",
       "    </tr>\n",
       "    <tr>\n",
       "      <th>1880-03-15</th>\n",
       "      <td>1880-03-15</td>\n",
       "      <td>-164.3</td>\n",
       "      <td>24.2</td>\n",
       "    </tr>\n",
       "    <tr>\n",
       "      <th>1880-04-15</th>\n",
       "      <td>1880-04-15</td>\n",
       "      <td>-158.2</td>\n",
       "      <td>24.2</td>\n",
       "    </tr>\n",
       "    <tr>\n",
       "      <th>1880-05-15</th>\n",
       "      <td>1880-05-15</td>\n",
       "      <td>-158.7</td>\n",
       "      <td>24.2</td>\n",
       "    </tr>\n",
       "  </tbody>\n",
       "</table>\n",
       "</div>"
      ],
      "text/plain": [
       "                 Time   GMSL  GMSL uncertainty\n",
       "Time                                          \n",
       "1880-01-15 1880-01-15 -183.0              24.2\n",
       "1880-02-15 1880-02-15 -171.1              24.2\n",
       "1880-03-15 1880-03-15 -164.3              24.2\n",
       "1880-04-15 1880-04-15 -158.2              24.2\n",
       "1880-05-15 1880-05-15 -158.7              24.2"
      ]
     },
     "execution_count": 5,
     "metadata": {},
     "output_type": "execute_result"
    }
   ],
   "source": [
    "sea.Time = pd.to_datetime(sea.Time)\n",
    "sea = sea.set_index(sea.Time)\n",
    "sea.head()"
   ]
  },
  {
   "cell_type": "code",
   "execution_count": 6,
   "id": "e2bd8d58",
   "metadata": {},
   "outputs": [
    {
     "data": {
      "image/png": "[encoded data removed]",
      "text/plain": [
       "<Figure size 432x288 with 1 Axes>"
      ]
     },
     "metadata": {
      "needs_background": "light"
     },
     "output_type": "display_data"
    }
   ],
   "source": [
    "plt.plot(sea.GMSL);"
   ]
  },
  {
   "cell_type": "markdown",
   "id": "436bbfc5",
   "metadata": {},
   "source": [
    "# Evolucion de subida del nivel del mar por décadas"
   ]
  },
  {
   "cell_type": "markdown",
   "id": "38bb9e44",
   "metadata": {},
   "source": [
    "## Análisis 1880"
   ]
  },
  {
   "cell_type": "code",
   "execution_count": 7,
   "id": "3b411baf",
   "metadata": {},
   "outputs": [
    {
     "data": {
      "image/png": "[encoded data removed]",
      "text/plain": [
       "<Figure size 432x288 with 1 Axes>"
      ]
     },
     "metadata": {
      "needs_background": "light"
     },
     "output_type": "display_data"
    }
   ],
   "source": [
    "eight_80 = sea.loc['1880-01-15' : '1889-12-15']\n",
    "plt.ylim((min(sea.GMSL), max(sea.GMSL)))\n",
    "plt.plot(eight_80.GMSL);"
   ]
  },
  {
   "cell_type": "code",
   "execution_count": 8,
   "id": "18358084",
   "metadata": {},
   "outputs": [
    {
     "data": {
      "text/plain": [
       "(120, 3)"
      ]
     },
     "execution_count": 8,
     "metadata": {},
     "output_type": "execute_result"
    }
   ],
   "source": [
    "eight_80.shape"
   ]
  },
  {
   "cell_type": "markdown",
   "id": "5350f9b7",
   "metadata": {},
   "source": [
    "## Análisis 1890's"
   ]
  },
  {
   "cell_type": "code",
   "execution_count": 9,
   "id": "76e412fa",
   "metadata": {},
   "outputs": [
    {
     "data": {
      "image/png": "[encoded data removed]",
      "text/plain": [
       "<Figure size 432x288 with 1 Axes>"
      ]
     },
     "metadata": {
      "needs_background": "light"
     },
     "output_type": "display_data"
    }
   ],
   "source": [
    "eight_90 = sea.loc['1890-01-15' : '1899-12-15']\n",
    "plt.ylim((min(sea.GMSL), max(sea.GMSL)))\n",
    "plt.plot(eight_90.GMSL);"
   ]
  },
  {
   "cell_type": "markdown",
   "id": "891b7d4f",
   "metadata": {},
   "source": [
    "## Análisis 1900's"
   ]
  },
  {
   "cell_type": "code",
   "execution_count": 10,
   "id": "0a62f8f6",
   "metadata": {},
   "outputs": [
    {
     "data": {
      "image/png": "[encoded data removed]",
      "text/plain": [
       "<Figure size 432x288 with 1 Axes>"
      ]
     },
     "metadata": {
      "needs_background": "light"
     },
     "output_type": "display_data"
    }
   ],
   "source": [
    "nines_00 = sea.loc['1900-01-15' : '1909-12-15']\n",
    "plt.ylim((min(sea.GMSL), max(sea.GMSL)))\n",
    "plt.plot(nines_00.GMSL);"
   ]
  },
  {
   "cell_type": "markdown",
   "id": "55ec223c",
   "metadata": {},
   "source": [
    "## Análisis 1910's"
   ]
  },
  {
   "cell_type": "code",
   "execution_count": 11,
   "id": "adce7ac1",
   "metadata": {},
   "outputs": [
    {
     "data": {
      "image/png": "[encoded data removed]",
      "text/plain": [
       "<Figure size 432x288 with 1 Axes>"
      ]
     },
     "metadata": {
      "needs_background": "light"
     },
     "output_type": "display_data"
    }
   ],
   "source": [
    "nines_10 = sea.loc['1910-01-15' : '1919-12-15']\n",
    "plt.ylim((min(sea.GMSL), max(sea.GMSL)))\n",
    "plt.plot(nines_10.GMSL);"
   ]
  },
  {
   "cell_type": "markdown",
   "id": "0f78cd80",
   "metadata": {},
   "source": [
    "## Análisis 1920's"
   ]
  },
  {
   "cell_type": "code",
   "execution_count": 12,
   "id": "c0ae9f31",
   "metadata": {},
   "outputs": [
    {
     "data": {
      "image/png": "[encoded data removed]",
      "text/plain": [
       "<Figure size 432x288 with 1 Axes>"
      ]
     },
     "metadata": {
      "needs_background": "light"
     },
     "output_type": "display_data"
    }
   ],
   "source": [
    "nines_20 = sea.loc['1920-01-15' : '1929-12-15']\n",
    "plt.ylim((min(sea.GMSL), max(sea.GMSL)))\n",
    "plt.plot(nines_00.GMSL);"
   ]
  },
  {
   "cell_type": "markdown",
   "id": "02898704",
   "metadata": {},
   "source": [
    "## Análisis 1930's"
   ]
  },
  {
   "cell_type": "code",
   "execution_count": 13,
   "id": "5e8d518a",
   "metadata": {},
   "outputs": [
    {
     "data": {
      "image/png": "[encoded data removed]",
      "text/plain": [
       "<Figure size 432x288 with 1 Axes>"
      ]
     },
     "metadata": {
      "needs_background": "light"
     },
     "output_type": "display_data"
    }
   ],
   "source": [
    "nines_30 = sea.loc['1930-01-15' : '1939-12-15']\n",
    "plt.ylim((min(sea.GMSL), max(sea.GMSL)))\n",
    "plt.plot(nines_30.GMSL);"
   ]
  },
  {
   "cell_type": "markdown",
   "id": "38fef32d",
   "metadata": {},
   "source": [
    "## Análisis 1940's"
   ]
  },
  {
   "cell_type": "code",
   "execution_count": 14,
   "id": "e6eacb6a",
   "metadata": {},
   "outputs": [
    {
     "data": {
      "image/png": "[encoded data removed]",
      "text/plain": [
       "<Figure size 432x288 with 1 Axes>"
      ]
     },
     "metadata": {
      "needs_background": "light"
     },
     "output_type": "display_data"
    }
   ],
   "source": [
    "nines_40 = sea.loc['1940-01-15' : '1949-12-15']\n",
    "plt.ylim((min(sea.GMSL), max(sea.GMSL)))\n",
    "plt.plot(nines_40.GMSL);"
   ]
  },
  {
   "cell_type": "markdown",
   "id": "8da5adde",
   "metadata": {},
   "source": [
    "## Análisis 1950's"
   ]
  },
  {
   "cell_type": "code",
   "execution_count": 15,
   "id": "db5ccb78",
   "metadata": {},
   "outputs": [
    {
     "data": {
      "image/png": "[encoded data removed]",
      "text/plain": [
       "<Figure size 432x288 with 1 Axes>"
      ]
     },
     "metadata": {
      "needs_background": "light"
     },
     "output_type": "display_data"
    }
   ],
   "source": [
    "nines_50 = sea.loc['1950-01-15' : '1959-12-15']\n",
    "plt.ylim((min(sea.GMSL), max(sea.GMSL)))\n",
    "plt.plot(nines_50.GMSL);"
   ]
  },
  {
   "cell_type": "markdown",
   "id": "563c0338",
   "metadata": {},
   "source": [
    "## Análisis 1960's"
   ]
  },
  {
   "cell_type": "code",
   "execution_count": 16,
   "id": "ffc6a980",
   "metadata": {},
   "outputs": [
    {
     "data": {
      "image/png": "[encoded data removed]",
      "text/plain": [
       "<Figure size 432x288 with 1 Axes>"
      ]
     },
     "metadata": {
      "needs_background": "light"
     },
     "output_type": "display_data"
    }
   ],
   "source": [
    "nines_60 = sea.loc['1960-01-15' : '1969-12-15']\n",
    "plt.ylim((min(sea.GMSL), max(sea.GMSL)))\n",
    "plt.plot(nines_50.GMSL);"
   ]
  },
  {
   "cell_type": "markdown",
   "id": "2210ee0c",
   "metadata": {},
   "source": [
    "## Análisis 1970's"
   ]
  },
  {
   "cell_type": "code",
   "execution_count": 17,
   "id": "f6dbadd0",
   "metadata": {},
   "outputs": [
    {
     "data": {
      "image/png": "[encoded data removed]",
      "text/plain": [
       "<Figure size 432x288 with 1 Axes>"
      ]
     },
     "metadata": {
      "needs_background": "light"
     },
     "output_type": "display_data"
    }
   ],
   "source": [
    "nines_70 = sea.loc['1970-01-15' : '1979-12-15']\n",
    "plt.ylim((min(sea.GMSL), max(sea.GMSL)))\n",
    "plt.plot(nines_70.GMSL);"
   ]
  },
  {
   "cell_type": "markdown",
   "id": "62cd5a9e",
   "metadata": {},
   "source": [
    "## Análisis 1980's"
   ]
  },
  {
   "cell_type": "code",
   "execution_count": 18,
   "id": "e647f5b1",
   "metadata": {},
   "outputs": [
    {
     "data": {
      "image/png": "[encoded data removed]",
      "text/plain": [
       "<Figure size 432x288 with 1 Axes>"
      ]
     },
     "metadata": {
      "needs_background": "light"
     },
     "output_type": "display_data"
    }
   ],
   "source": [
    "nines_80 = sea.loc['1980-01-15' : '1989-12-15']\n",
    "plt.ylim((min(sea.GMSL), max(sea.GMSL)))\n",
    "plt.plot(nines_80.GMSL);"
   ]
  },
  {
   "cell_type": "markdown",
   "id": "09dd1a8f",
   "metadata": {},
   "source": [
    "## Análisis 1990's"
   ]
  },
  {
   "cell_type": "code",
   "execution_count": 19,
   "id": "e9ec8fc4",
   "metadata": {},
   "outputs": [
    {
     "data": {
      "image/png": "[encoded data removed]",
      "text/plain": [
       "<Figure size 432x288 with 1 Axes>"
      ]
     },
     "metadata": {
      "needs_background": "light"
     },
     "output_type": "display_data"
    }
   ],
   "source": [
    "nines_90 = sea.loc['1990-01-15' : '1999-12-15']\n",
    "plt.ylim((min(sea.GMSL), max(sea.GMSL)))\n",
    "plt.plot(nines_90.GMSL);"
   ]
  },
  {
   "cell_type": "markdown",
   "id": "edf4f0d7",
   "metadata": {},
   "source": [
    "## Análisis 2000's"
   ]
  },
  {
   "cell_type": "code",
   "execution_count": 20,
   "id": "590eadde",
   "metadata": {},
   "outputs": [
    {
     "data": {
      "image/png": "[encoded data removed]",
      "text/plain": [
       "<Figure size 432x288 with 1 Axes>"
      ]
     },
     "metadata": {
      "needs_background": "light"
     },
     "output_type": "display_data"
    }
   ],
   "source": [
    "twnt_00 = sea.loc['2000-01-15' : '2009-12-15']\n",
    "plt.ylim((min(sea.GMSL), max(sea.GMSL)))\n",
    "plt.plot(twnt_00.GMSL);"
   ]
  },
  {
   "cell_type": "markdown",
   "id": "91943dc6",
   "metadata": {},
   "source": [
    "## Análisis 2010's"
   ]
  },
  {
   "cell_type": "code",
   "execution_count": 21,
   "id": "e7389625",
   "metadata": {},
   "outputs": [
    {
     "data": {
      "image/png": "[encoded data removed]",
      "text/plain": [
       "<Figure size 432x288 with 1 Axes>"
      ]
     },
     "metadata": {
      "needs_background": "light"
     },
     "output_type": "display_data"
    }
   ],
   "source": [
    "twnt_10 = sea.loc['2010-01-15' : '2013-12-15']\n",
    "plt.ylim((min(sea.GMSL), max(sea.GMSL)))\n",
    "plt.plot(twnt_10.GMSL);"
   ]
  },
  {
   "cell_type": "markdown",
   "id": "55ae4b1b",
   "metadata": {},
   "source": [
    "# Evolución por años del nivel del mar"
   ]
  },
  {
   "cell_type": "code",
   "execution_count": 22,
   "id": "58c53452",
   "metadata": {},
   "outputs": [
    {
     "data": {
      "text/html": [
       "<div>\n",
       "<style scoped>\n",
       "    .dataframe tbody tr th:only-of-type {\n",
       "        vertical-align: middle;\n",
       "    }\n",
       "\n",
       "    .dataframe tbody tr th {\n",
       "        vertical-align: top;\n",
       "    }\n",
       "\n",
       "    .dataframe thead th {\n",
       "        text-align: right;\n",
       "    }\n",
       "</style>\n",
       "<table border=\"1\" class=\"dataframe\">\n",
       "  <thead>\n",
       "    <tr style=\"text-align: right;\">\n",
       "      <th></th>\n",
       "      <th>Time</th>\n",
       "      <th>GMSL</th>\n",
       "      <th>GMSL uncertainty</th>\n",
       "      <th>Year</th>\n",
       "      <th>Month</th>\n",
       "    </tr>\n",
       "    <tr>\n",
       "      <th>Time</th>\n",
       "      <th></th>\n",
       "      <th></th>\n",
       "      <th></th>\n",
       "      <th></th>\n",
       "      <th></th>\n",
       "    </tr>\n",
       "  </thead>\n",
       "  <tbody>\n",
       "    <tr>\n",
       "      <th>1880-01-15</th>\n",
       "      <td>1880-01-15</td>\n",
       "      <td>-183.0</td>\n",
       "      <td>24.2</td>\n",
       "      <td>1880</td>\n",
       "      <td>1</td>\n",
       "    </tr>\n",
       "    <tr>\n",
       "      <th>1880-02-15</th>\n",
       "      <td>1880-02-15</td>\n",
       "      <td>-171.1</td>\n",
       "      <td>24.2</td>\n",
       "      <td>1880</td>\n",
       "      <td>2</td>\n",
       "    </tr>\n",
       "    <tr>\n",
       "      <th>1880-03-15</th>\n",
       "      <td>1880-03-15</td>\n",
       "      <td>-164.3</td>\n",
       "      <td>24.2</td>\n",
       "      <td>1880</td>\n",
       "      <td>3</td>\n",
       "    </tr>\n",
       "    <tr>\n",
       "      <th>1880-04-15</th>\n",
       "      <td>1880-04-15</td>\n",
       "      <td>-158.2</td>\n",
       "      <td>24.2</td>\n",
       "      <td>1880</td>\n",
       "      <td>4</td>\n",
       "    </tr>\n",
       "    <tr>\n",
       "      <th>1880-05-15</th>\n",
       "      <td>1880-05-15</td>\n",
       "      <td>-158.7</td>\n",
       "      <td>24.2</td>\n",
       "      <td>1880</td>\n",
       "      <td>5</td>\n",
       "    </tr>\n",
       "  </tbody>\n",
       "</table>\n",
       "</div>"
      ],
      "text/plain": [
       "                  Time   GMSL  GMSL uncertainty  Year  Month\n",
       "Time                                                        \n",
       "1880-01-15  1880-01-15 -183.0              24.2  1880      1\n",
       "1880-02-15  1880-02-15 -171.1              24.2  1880      2\n",
       "1880-03-15  1880-03-15 -164.3              24.2  1880      3\n",
       "1880-04-15  1880-04-15 -158.2              24.2  1880      4\n",
       "1880-05-15  1880-05-15 -158.7              24.2  1880      5"
      ]
     },
     "execution_count": 22,
     "metadata": {},
     "output_type": "execute_result"
    }
   ],
   "source": [
    "sea.Time = sea.Time.astype(str)\n",
    "\n",
    "sea['Year'] = sea.Time.apply(lambda x: x.split('-')[0]).astype(int)\n",
    "sea['Month'] = sea.Time.apply(lambda x:x.split('-')[1]).astype(int)\n",
    "sea.head()"
   ]
  },
  {
   "cell_type": "code",
   "execution_count": 23,
   "id": "7ad69061",
   "metadata": {},
   "outputs": [],
   "source": [
    "months = ['Jan', 'Feb', 'Mar', 'Apr', 'May', 'Jun', 'Jul', 'Aug', 'Sep', 'Oct', 'Nov', 'Dec']"
   ]
  },
  {
   "cell_type": "code",
   "execution_count": 24,
   "id": "4c7614de",
   "metadata": {},
   "outputs": [
    {
     "data": {
      "image/png": "[encoded data removed]",
      "text/plain": [
       "<Figure size 432x288 with 1 Axes>"
      ]
     },
     "metadata": {
      "needs_background": "light"
     },
     "output_type": "display_data"
    }
   ],
   "source": [
    "plt.ylim(min(sea.GMSL)-10, max(sea.GMSL)+10)\n",
    "plt.plot(months, sea.GMSL[sea.Year==1880]);"
   ]
  },
  {
   "cell_type": "code",
   "execution_count": 25,
   "id": "e6b59ea3",
   "metadata": {},
   "outputs": [
    {
     "data": {
      "text/html": [
       "<div>\n",
       "<style scoped>\n",
       "    .dataframe tbody tr th:only-of-type {\n",
       "        vertical-align: middle;\n",
       "    }\n",
       "\n",
       "    .dataframe tbody tr th {\n",
       "        vertical-align: top;\n",
       "    }\n",
       "\n",
       "    .dataframe thead th {\n",
       "        text-align: right;\n",
       "    }\n",
       "</style>\n",
       "<table border=\"1\" class=\"dataframe\">\n",
       "  <thead>\n",
       "    <tr style=\"text-align: right;\">\n",
       "      <th></th>\n",
       "      <th>Time</th>\n",
       "      <th>GMSL</th>\n",
       "      <th>GMSL uncertainty</th>\n",
       "      <th>Year</th>\n",
       "      <th>Month</th>\n",
       "    </tr>\n",
       "    <tr>\n",
       "      <th>Time</th>\n",
       "      <th></th>\n",
       "      <th></th>\n",
       "      <th></th>\n",
       "      <th></th>\n",
       "      <th></th>\n",
       "    </tr>\n",
       "  </thead>\n",
       "  <tbody>\n",
       "    <tr>\n",
       "      <th>1880-01-15</th>\n",
       "      <td>1880-01-15</td>\n",
       "      <td>-183.0</td>\n",
       "      <td>24.2</td>\n",
       "      <td>1880</td>\n",
       "      <td>1</td>\n",
       "    </tr>\n",
       "    <tr>\n",
       "      <th>1880-02-15</th>\n",
       "      <td>1880-02-15</td>\n",
       "      <td>-171.1</td>\n",
       "      <td>24.2</td>\n",
       "      <td>1880</td>\n",
       "      <td>2</td>\n",
       "    </tr>\n",
       "    <tr>\n",
       "      <th>1880-03-15</th>\n",
       "      <td>1880-03-15</td>\n",
       "      <td>-164.3</td>\n",
       "      <td>24.2</td>\n",
       "      <td>1880</td>\n",
       "      <td>3</td>\n",
       "    </tr>\n",
       "    <tr>\n",
       "      <th>1880-04-15</th>\n",
       "      <td>1880-04-15</td>\n",
       "      <td>-158.2</td>\n",
       "      <td>24.2</td>\n",
       "      <td>1880</td>\n",
       "      <td>4</td>\n",
       "    </tr>\n",
       "    <tr>\n",
       "      <th>1880-05-15</th>\n",
       "      <td>1880-05-15</td>\n",
       "      <td>-158.7</td>\n",
       "      <td>24.2</td>\n",
       "      <td>1880</td>\n",
       "      <td>5</td>\n",
       "    </tr>\n",
       "  </tbody>\n",
       "</table>\n",
       "</div>"
      ],
      "text/plain": [
       "                  Time   GMSL  GMSL uncertainty  Year  Month\n",
       "Time                                                        \n",
       "1880-01-15  1880-01-15 -183.0              24.2  1880      1\n",
       "1880-02-15  1880-02-15 -171.1              24.2  1880      2\n",
       "1880-03-15  1880-03-15 -164.3              24.2  1880      3\n",
       "1880-04-15  1880-04-15 -158.2              24.2  1880      4\n",
       "1880-05-15  1880-05-15 -158.7              24.2  1880      5"
      ]
     },
     "execution_count": 25,
     "metadata": {},
     "output_type": "execute_result"
    }
   ],
   "source": [
    "sea.head()"
   ]
  },
  {
   "cell_type": "code",
   "execution_count": 26,
   "id": "23893ef9",
   "metadata": {},
   "outputs": [],
   "source": [
    "%matplotlib notebook\n",
    "plt.rcParams['animation.embed_limit'] = 2**128"
   ]
  },
  {
   "cell_type": "code",
   "execution_count": 27,
   "id": "ba414229",
   "metadata": {},
   "outputs": [
    {
     "data": {
      "application/javascript": [
       "/* Put everything inside the global mpl namespace */\n",
       "/* global mpl */\n",
       "window.mpl = {};\n",
       "\n",
       "mpl.get_websocket_type = function () {\n",
       "    if (typeof WebSocket !== 'undefined') {\n",
       "        return WebSocket;\n",
       "    } else if (typeof MozWebSocket !== 'undefined') {\n",
       "        return MozWebSocket;\n",
       "    } else {\n",
       "        alert(\n",
       "            'Your browser does not have WebSocket support. ' +\n",
       "                'Please try Chrome, Safari or Firefox ≥ 6. ' +\n",
       "                'Firefox 4 and 5 are also supported but you ' +\n",
       "                'have to enable WebSockets in about:config.'\n",
       "        );\n",
       "    }\n",
       "};\n",
       "\n",
       "mpl.figure = function (figure_id, websocket, ondownload, parent_element) {\n",
       "    this.id = figure_id;\n",
       "\n",
       "    this.ws = websocket;\n",
       "\n",
       "    this.supports_binary = this.ws.binaryType !== undefined;\n",
       "\n",
       "    if (!this.supports_binary) {\n",
       "        var warnings = document.getElementById('mpl-warnings');\n",
       "        if (warnings) {\n",
       "            warnings.style.display = 'block';\n",
       "            warnings.textContent =\n",
       "                'This browser does not support binary websocket messages. ' +\n",
       "                'Performance may be slow.';\n",
       "        }\n",
       "    }\n",
       "\n",
       "    this.imageObj = new Image();\n",
       "\n",
       "    this.context = undefined;\n",
       "    this.message = undefined;\n",
       "    this.canvas = undefined;\n",
       "    this.rubberband_canvas = undefined;\n",
       "    this.rubberband_context = undefined;\n",
       "    this.format_dropdown = undefined;\n",
       "\n",
       "    this.image_mode = 'full';\n",
       "\n",
       "    this.root = document.createElement('div');\n",
       "    this.root.setAttribute('style', 'display: inline-block');\n",
       "    this._root_extra_style(this.root);\n",
       "\n",
       "    parent_element.appendChild(this.root);\n",
       "\n",
       "    this._init_header(this);\n",
       "    this._init_canvas(this);\n",
       "    this._init_toolbar(this);\n",
       "\n",
       "    var fig = this;\n",
       "\n",
       "    this.waiting = false;\n",
       "\n",
       "    this.ws.onopen = function () {\n",
       "        fig.send_message('supports_binary', { value: fig.supports_binary });\n",
       "        fig.send_message('send_image_mode', {});\n",
       "        if (fig.ratio !== 1) {\n",
       "            fig.send_message('set_dpi_ratio', { dpi_ratio: fig.ratio });\n",
       "        }\n",
       "        fig.send_message('refresh', {});\n",
       "    };\n",
       "\n",
       "    this.imageObj.onload = function () {\n",
       "        if (fig.image_mode === 'full') {\n",
       "            // Full images could contain transparency (where diff images\n",
       "            // almost always do), so we need to clear the canvas so that\n",
       "            // there is no ghosting.\n",
       "            fig.context.clearRect(0, 0, fig.canvas.width, fig.canvas.height);\n",
       "        }\n",
       "        fig.context.drawImage(fig.imageObj, 0, 0);\n",
       "    };\n",
       "\n",
       "    this.imageObj.onunload = function () {\n",
       "        fig.ws.close();\n",
       "    };\n",
       "\n",
       "    this.ws.onmessage = this._make_on_message_function(this);\n",
       "\n",
       "    this.ondownload = ondownload;\n",
       "};\n",
       "\n",
       "mpl.figure.prototype._init_header = function () {\n",
       "    var titlebar = document.createElement('div');\n",
       "    titlebar.classList =\n",
       "        'ui-dialog-titlebar ui-widget-header ui-corner-all ui-helper-clearfix';\n",
       "    var titletext = document.createElement('div');\n",
       "    titletext.classList = 'ui-dialog-title';\n",
       "    titletext.setAttribute(\n",
       "        'style',\n",
       "        'width: 100%; text-align: center; padding: 3px;'\n",
       "    );\n",
       "    titlebar.appendChild(titletext);\n",
       "    this.root.appendChild(titlebar);\n",
       "    this.header = titletext;\n",
       "};\n",
       "\n",
       "mpl.figure.prototype._canvas_extra_style = function (_canvas_div) {};\n",
       "\n",
       "mpl.figure.prototype._root_extra_style = function (_canvas_div) {};\n",
       "\n",
       "mpl.figure.prototype._init_canvas = function () {\n",
       "    var fig = this;\n",
       "\n",
       "    var canvas_div = (this.canvas_div = document.createElement('div'));\n",
       "    canvas_div.setAttribute(\n",
       "        'style',\n",
       "        'border: 1px solid #ddd;' +\n",
       "            'box-sizing: content-box;' +\n",
       "            'clear: both;' +\n",
       "            'min-height: 1px;' +\n",
       "            'min-width: 1px;' +\n",
       "            'outline: 0;' +\n",
       "            'overflow: hidden;' +\n",
       "            'position: relative;' +\n",
       "            'resize: both;'\n",
       "    );\n",
       "\n",
       "    function on_keyboard_event_closure(name) {\n",
       "        return function (event) {\n",
       "            return fig.key_event(event, name);\n",
       "        };\n",
       "    }\n",
       "\n",
       "    canvas_div.addEventListener(\n",
       "        'keydown',\n",
       "        on_keyboard_event_closure('key_press')\n",
       "    );\n",
       "    canvas_div.addEventListener(\n",
       "        'keyup',\n",
       "        on_keyboard_event_closure('key_release')\n",
       "    );\n",
       "\n",
       "    this._canvas_extra_style(canvas_div);\n",
       "    this.root.appendChild(canvas_div);\n",
       "\n",
       "    var canvas = (this.canvas = document.createElement('canvas'));\n",
       "    canvas.classList.add('mpl-canvas');\n",
       "    canvas.setAttribute('style', 'box-sizing: content-box;');\n",
       "\n",
       "    this.context = canvas.getContext('2d');\n",
       "\n",
       "    var backingStore =\n",
       "        this.context.backingStorePixelRatio ||\n",
       "        this.context.webkitBackingStorePixelRatio ||\n",
       "        this.context.mozBackingStorePixelRatio ||\n",
       "        this.context.msBackingStorePixelRatio ||\n",
       "        this.context.oBackingStorePixelRatio ||\n",
       "        this.context.backingStorePixelRatio ||\n",
       "        1;\n",
       "\n",
       "    this.ratio = (window.devicePixelRatio || 1) / backingStore;\n",
       "\n",
       "    var rubberband_canvas = (this.rubberband_canvas = document.createElement(\n",
       "        'canvas'\n",
       "    ));\n",
       "    rubberband_canvas.setAttribute(\n",
       "        'style',\n",
       "        'box-sizing: content-box; position: absolute; left: 0; top: 0; z-index: 1;'\n",
       "    );\n",
       "\n",
       "    // Apply a ponyfill if ResizeObserver is not implemented by browser.\n",
       "    if (this.ResizeObserver === undefined) {\n",
       "        if (window.ResizeObserver !== undefined) {\n",
       "            this.ResizeObserver = window.ResizeObserver;\n",
       "        } else {\n",
       "            var obs = _JSXTOOLS_RESIZE_OBSERVER({});\n",
       "            this.ResizeObserver = obs.ResizeObserver;\n",
       "        }\n",
       "    }\n",
       "\n",
       "    this.resizeObserverInstance = new this.ResizeObserver(function (entries) {\n",
       "        var nentries = entries.length;\n",
       "        for (var i = 0; i < nentries; i++) {\n",
       "            var entry = entries[i];\n",
       "            var width, height;\n",
       "            if (entry.contentBoxSize) {\n",
       "                if (entry.contentBoxSize instanceof Array) {\n",
       "                    // Chrome 84 implements new version of spec.\n",
       "                    width = entry.contentBoxSize[0].inlineSize;\n",
       "                    height = entry.contentBoxSize[0].blockSize;\n",
       "                } else {\n",
       "                    // Firefox implements old version of spec.\n",
       "                    width = entry.contentBoxSize.inlineSize;\n",
       "                    height = entry.contentBoxSize.blockSize;\n",
       "                }\n",
       "            } else {\n",
       "                // Chrome <84 implements even older version of spec.\n",
       "                width = entry.contentRect.width;\n",
       "                height = entry.contentRect.height;\n",
       "            }\n",
       "\n",
       "            // Keep the size of the canvas and rubber band canvas in sync with\n",
       "            // the canvas container.\n",
       "            if (entry.devicePixelContentBoxSize) {\n",
       "                // Chrome 84 implements new version of spec.\n",
       "                canvas.setAttribute(\n",
       "                    'width',\n",
       "                    entry.devicePixelContentBoxSize[0].inlineSize\n",
       "                );\n",
       "                canvas.setAttribute(\n",
       "                    'height',\n",
       "                    entry.devicePixelContentBoxSize[0].blockSize\n",
       "                );\n",
       "            } else {\n",
       "                canvas.setAttribute('width', width * fig.ratio);\n",
       "                canvas.setAttribute('height', height * fig.ratio);\n",
       "            }\n",
       "            canvas.setAttribute(\n",
       "                'style',\n",
       "                'width: ' + width + 'px; height: ' + height + 'px;'\n",
       "            );\n",
       "\n",
       "            rubberband_canvas.setAttribute('width', width);\n",
       "            rubberband_canvas.setAttribute('height', height);\n",
       "\n",
       "            // And update the size in Python. We ignore the initial 0/0 size\n",
       "            // that occurs as the element is placed into the DOM, which should\n",
       "            // otherwise not happen due to the minimum size styling.\n",
       "            if (fig.ws.readyState == 1 && width != 0 && height != 0) {\n",
       "                fig.request_resize(width, height);\n",
       "            }\n",
       "        }\n",
       "    });\n",
       "    this.resizeObserverInstance.observe(canvas_div);\n",
       "\n",
       "    function on_mouse_event_closure(name) {\n",
       "        return function (event) {\n",
       "            return fig.mouse_event(event, name);\n",
       "        };\n",
       "    }\n",
       "\n",
       "    rubberband_canvas.addEventListener(\n",
       "        'mousedown',\n",
       "        on_mouse_event_closure('button_press')\n",
       "    );\n",
       "    rubberband_canvas.addEventListener(\n",
       "        'mouseup',\n",
       "        on_mouse_event_closure('button_release')\n",
       "    );\n",
       "    rubberband_canvas.addEventListener(\n",
       "        'dblclick',\n",
       "        on_mouse_event_closure('dblclick')\n",
       "    );\n",
       "    // Throttle sequential mouse events to 1 every 20ms.\n",
       "    rubberband_canvas.addEventListener(\n",
       "        'mousemove',\n",
       "        on_mouse_event_closure('motion_notify')\n",
       "    );\n",
       "\n",
       "    rubberband_canvas.addEventListener(\n",
       "        'mouseenter',\n",
       "        on_mouse_event_closure('figure_enter')\n",
       "    );\n",
       "    rubberband_canvas.addEventListener(\n",
       "        'mouseleave',\n",
       "        on_mouse_event_closure('figure_leave')\n",
       "    );\n",
       "\n",
       "    canvas_div.addEventListener('wheel', function (event) {\n",
       "        if (event.deltaY < 0) {\n",
       "            event.step = 1;\n",
       "        } else {\n",
       "            event.step = -1;\n",
       "        }\n",
       "        on_mouse_event_closure('scroll')(event);\n",
       "    });\n",
       "\n",
       "    canvas_div.appendChild(canvas);\n",
       "    canvas_div.appendChild(rubberband_canvas);\n",
       "\n",
       "    this.rubberband_context = rubberband_canvas.getContext('2d');\n",
       "    this.rubberband_context.strokeStyle = '#000000';\n",
       "\n",
       "    this._resize_canvas = function (width, height, forward) {\n",
       "        if (forward) {\n",
       "            canvas_div.style.width = width + 'px';\n",
       "            canvas_div.style.height = height + 'px';\n",
       "        }\n",
       "    };\n",
       "\n",
       "    // Disable right mouse context menu.\n",
       "    this.rubberband_canvas.addEventListener('contextmenu', function (_e) {\n",
       "        event.preventDefault();\n",
       "        return false;\n",
       "    });\n",
       "\n",
       "    function set_focus() {\n",
       "        canvas.focus();\n",
       "        canvas_div.focus();\n",
       "    }\n",
       "\n",
       "    window.setTimeout(set_focus, 100);\n",
       "};\n",
       "\n",
       "mpl.figure.prototype._init_toolbar = function () {\n",
       "    var fig = this;\n",
       "\n",
       "    var toolbar = document.createElement('div');\n",
       "    toolbar.classList = 'mpl-toolbar';\n",
       "    this.root.appendChild(toolbar);\n",
       "\n",
       "    function on_click_closure(name) {\n",
       "        return function (_event) {\n",
       "            return fig.toolbar_button_onclick(name);\n",
       "        };\n",
       "    }\n",
       "\n",
       "    function on_mouseover_closure(tooltip) {\n",
       "        return function (event) {\n",
       "            if (!event.currentTarget.disabled) {\n",
       "                return fig.toolbar_button_onmouseover(tooltip);\n",
       "            }\n",
       "        };\n",
       "    }\n",
       "\n",
       "    fig.buttons = {};\n",
       "    var buttonGroup = document.createElement('div');\n",
       "    buttonGroup.classList = 'mpl-button-group';\n",
       "    for (var toolbar_ind in mpl.toolbar_items) {\n",
       "        var name = mpl.toolbar_items[toolbar_ind][0];\n",
       "        var tooltip = mpl.toolbar_items[toolbar_ind][1];\n",
       "        var image = mpl.toolbar_items[toolbar_ind][2];\n",
       "        var method_name = mpl.toolbar_items[toolbar_ind][3];\n",
       "\n",
       "        if (!name) {\n",
       "            /* Instead of a spacer, we start a new button group. */\n",
       "            if (buttonGroup.hasChildNodes()) {\n",
       "                toolbar.appendChild(buttonGroup);\n",
       "            }\n",
       "            buttonGroup = document.createElement('div');\n",
       "            buttonGroup.classList = 'mpl-button-group';\n",
       "            continue;\n",
       "        }\n",
       "\n",
       "        var button = (fig.buttons[name] = document.createElement('button'));\n",
       "        button.classList = 'mpl-widget';\n",
       "        button.setAttribute('role', 'button');\n",
       "        button.setAttribute('aria-disabled', 'false');\n",
       "        button.addEventListener('click', on_click_closure(method_name));\n",
       "        button.addEventListener('mouseover', on_mouseover_closure(tooltip));\n",
       "\n",
       "        var icon_img = document.createElement('img');\n",
       "        icon_img.src = '_images/' + image + '.png';\n",
       "        icon_img.srcset = '_images/' + image + '_large.png 2x';\n",
       "        icon_img.alt = tooltip;\n",
       "        button.appendChild(icon_img);\n",
       "\n",
       "        buttonGroup.appendChild(button);\n",
       "    }\n",
       "\n",
       "    if (buttonGroup.hasChildNodes()) {\n",
       "        toolbar.appendChild(buttonGroup);\n",
       "    }\n",
       "\n",
       "    var fmt_picker = document.createElement('select');\n",
       "    fmt_picker.classList = 'mpl-widget';\n",
       "    toolbar.appendChild(fmt_picker);\n",
       "    this.format_dropdown = fmt_picker;\n",
       "\n",
       "    for (var ind in mpl.extensions) {\n",
       "        var fmt = mpl.extensions[ind];\n",
       "        var option = document.createElement('option');\n",
       "        option.selected = fmt === mpl.default_extension;\n",
       "        option.innerHTML = fmt;\n",
       "        fmt_picker.appendChild(option);\n",
       "    }\n",
       "\n",
       "    var status_bar = document.createElement('span');\n",
       "    status_bar.classList = 'mpl-message';\n",
       "    toolbar.appendChild(status_bar);\n",
       "    this.message = status_bar;\n",
       "};\n",
       "\n",
       "mpl.figure.prototype.request_resize = function (x_pixels, y_pixels) {\n",
       "    // Request matplotlib to resize the figure. Matplotlib will then trigger a resize in the client,\n",
       "    // which will in turn request a refresh of the image.\n",
       "    this.send_message('resize', { width: x_pixels, height: y_pixels });\n",
       "};\n",
       "\n",
       "mpl.figure.prototype.send_message = function (type, properties) {\n",
       "    properties['type'] = type;\n",
       "    properties['figure_id'] = this.id;\n",
       "    this.ws.send(JSON.stringify(properties));\n",
       "};\n",
       "\n",
       "mpl.figure.prototype.send_draw_message = function () {\n",
       "    if (!this.waiting) {\n",
       "        this.waiting = true;\n",
       "        this.ws.send(JSON.stringify({ type: 'draw', figure_id: this.id }));\n",
       "    }\n",
       "};\n",
       "\n",
       "mpl.figure.prototype.handle_save = function (fig, _msg) {\n",
       "    var format_dropdown = fig.format_dropdown;\n",
       "    var format = format_dropdown.options[format_dropdown.selectedIndex].value;\n",
       "    fig.ondownload(fig, format);\n",
       "};\n",
       "\n",
       "mpl.figure.prototype.handle_resize = function (fig, msg) {\n",
       "    var size = msg['size'];\n",
       "    if (size[0] !== fig.canvas.width || size[1] !== fig.canvas.height) {\n",
       "        fig._resize_canvas(size[0], size[1], msg['forward']);\n",
       "        fig.send_message('refresh', {});\n",
       "    }\n",
       "};\n",
       "\n",
       "mpl.figure.prototype.handle_rubberband = function (fig, msg) {\n",
       "    var x0 = msg['x0'] / fig.ratio;\n",
       "    var y0 = (fig.canvas.height - msg['y0']) / fig.ratio;\n",
       "    var x1 = msg['x1'] / fig.ratio;\n",
       "    var y1 = (fig.canvas.height - msg['y1']) / fig.ratio;\n",
       "    x0 = Math.floor(x0) + 0.5;\n",
       "    y0 = Math.floor(y0) + 0.5;\n",
       "    x1 = Math.floor(x1) + 0.5;\n",
       "    y1 = Math.floor(y1) + 0.5;\n",
       "    var min_x = Math.min(x0, x1);\n",
       "    var min_y = Math.min(y0, y1);\n",
       "    var width = Math.abs(x1 - x0);\n",
       "    var height = Math.abs(y1 - y0);\n",
       "\n",
       "    fig.rubberband_context.clearRect(\n",
       "        0,\n",
       "        0,\n",
       "        fig.canvas.width / fig.ratio,\n",
       "        fig.canvas.height / fig.ratio\n",
       "    );\n",
       "\n",
       "    fig.rubberband_context.strokeRect(min_x, min_y, width, height);\n",
       "};\n",
       "\n",
       "mpl.figure.prototype.handle_figure_label = function (fig, msg) {\n",
       "    // Updates the figure title.\n",
       "    fig.header.textContent = msg['label'];\n",
       "};\n",
       "\n",
       "mpl.figure.prototype.handle_cursor = function (fig, msg) {\n",
       "    var cursor = msg['cursor'];\n",
       "    switch (cursor) {\n",
       "        case 0:\n",
       "            cursor = 'pointer';\n",
       "            break;\n",
       "        case 1:\n",
       "            cursor = 'default';\n",
       "            break;\n",
       "        case 2:\n",
       "            cursor = 'crosshair';\n",
       "            break;\n",
       "        case 3:\n",
       "            cursor = 'move';\n",
       "            break;\n",
       "    }\n",
       "    fig.rubberband_canvas.style.cursor = cursor;\n",
       "};\n",
       "\n",
       "mpl.figure.prototype.handle_message = function (fig, msg) {\n",
       "    fig.message.textContent = msg['message'];\n",
       "};\n",
       "\n",
       "mpl.figure.prototype.handle_draw = function (fig, _msg) {\n",
       "    // Request the server to send over a new figure.\n",
       "    fig.send_draw_message();\n",
       "};\n",
       "\n",
       "mpl.figure.prototype.handle_image_mode = function (fig, msg) {\n",
       "    fig.image_mode = msg['mode'];\n",
       "};\n",
       "\n",
       "mpl.figure.prototype.handle_history_buttons = function (fig, msg) {\n",
       "    for (var key in msg) {\n",
       "        if (!(key in fig.buttons)) {\n",
       "            continue;\n",
       "        }\n",
       "        fig.buttons[key].disabled = !msg[key];\n",
       "        fig.buttons[key].setAttribute('aria-disabled', !msg[key]);\n",
       "    }\n",
       "};\n",
       "\n",
       "mpl.figure.prototype.handle_navigate_mode = function (fig, msg) {\n",
       "    if (msg['mode'] === 'PAN') {\n",
       "        fig.buttons['Pan'].classList.add('active');\n",
       "        fig.buttons['Zoom'].classList.remove('active');\n",
       "    } else if (msg['mode'] === 'ZOOM') {\n",
       "        fig.buttons['Pan'].classList.remove('active');\n",
       "        fig.buttons['Zoom'].classList.add('active');\n",
       "    } else {\n",
       "        fig.buttons['Pan'].classList.remove('active');\n",
       "        fig.buttons['Zoom'].classList.remove('active');\n",
       "    }\n",
       "};\n",
       "\n",
       "mpl.figure.prototype.updated_canvas_event = function () {\n",
       "    // Called whenever the canvas gets updated.\n",
       "    this.send_message('ack', {});\n",
       "};\n",
       "\n",
       "// A function to construct a web socket function for onmessage handling.\n",
       "// Called in the figure constructor.\n",
       "mpl.figure.prototype._make_on_message_function = function (fig) {\n",
       "    return function socket_on_message(evt) {\n",
       "        if (evt.data instanceof Blob) {\n",
       "            var img = evt.data;\n",
       "            if (img.type !== 'image/png') {\n",
       "                /* FIXME: We get \"Resource interpreted as Image but\n",
       "                 * transferred with MIME type text/plain:\" errors on\n",
       "                 * Chrome.  But how to set the MIME type?  It doesn't seem\n",
       "                 * to be part of the websocket stream */\n",
       "                img.type = 'image/png';\n",
       "            }\n",
       "\n",
       "            /* Free the memory for the previous frames */\n",
       "            if (fig.imageObj.src) {\n",
       "                (window.URL || window.webkitURL).revokeObjectURL(\n",
       "                    fig.imageObj.src\n",
       "                );\n",
       "            }\n",
       "\n",
       "            fig.imageObj.src = (window.URL || window.webkitURL).createObjectURL(\n",
       "                img\n",
       "            );\n",
       "            fig.updated_canvas_event();\n",
       "            fig.waiting = false;\n",
       "            return;\n",
       "        } else if (\n",
       "            typeof evt.data === 'string' &&\n",
       "            evt.data.slice(0, 21) === 'data:image/png;base64'\n",
       "        ) {\n",
       "            fig.imageObj.src = evt.data;\n",
       "            fig.updated_canvas_event();\n",
       "            fig.waiting = false;\n",
       "            return;\n",
       "        }\n",
       "\n",
       "        var msg = JSON.parse(evt.data);\n",
       "        var msg_type = msg['type'];\n",
       "\n",
       "        // Call the  \"handle_{type}\" callback, which takes\n",
       "        // the figure and JSON message as its only arguments.\n",
       "        try {\n",
       "            var callback = fig['handle_' + msg_type];\n",
       "        } catch (e) {\n",
       "            console.log(\n",
       "                \"No handler for the '\" + msg_type + \"' message type: \",\n",
       "                msg\n",
       "            );\n",
       "            return;\n",
       "        }\n",
       "\n",
       "        if (callback) {\n",
       "            try {\n",
       "                // console.log(\"Handling '\" + msg_type + \"' message: \", msg);\n",
       "                callback(fig, msg);\n",
       "            } catch (e) {\n",
       "                console.log(\n",
       "                    \"Exception inside the 'handler_\" + msg_type + \"' callback:\",\n",
       "                    e,\n",
       "                    e.stack,\n",
       "                    msg\n",
       "                );\n",
       "            }\n",
       "        }\n",
       "    };\n",
       "};\n",
       "\n",
       "// from http://stackoverflow.com/questions/1114465/getting-mouse-location-in-canvas\n",
       "mpl.findpos = function (e) {\n",
       "    //this section is from http://www.quirksmode.org/js/events_properties.html\n",
       "    var targ;\n",
       "    if (!e) {\n",
       "        e = window.event;\n",
       "    }\n",
       "    if (e.target) {\n",
       "        targ = e.target;\n",
       "    } else if (e.srcElement) {\n",
       "        targ = e.srcElement;\n",
       "    }\n",
       "    if (targ.nodeType === 3) {\n",
       "        // defeat Safari bug\n",
       "        targ = targ.parentNode;\n",
       "    }\n",
       "\n",
       "    // pageX,Y are the mouse positions relative to the document\n",
       "    var boundingRect = targ.getBoundingClientRect();\n",
       "    var x = e.pageX - (boundingRect.left + document.body.scrollLeft);\n",
       "    var y = e.pageY - (boundingRect.top + document.body.scrollTop);\n",
       "\n",
       "    return { x: x, y: y };\n",
       "};\n",
       "\n",
       "/*\n",
       " * return a copy of an object with only non-object keys\n",
       " * we need this to avoid circular references\n",
       " * http://stackoverflow.com/a/24161582/3208463\n",
       " */\n",
       "function simpleKeys(original) {\n",
       "    return Object.keys(original).reduce(function (obj, key) {\n",
       "        if (typeof original[key] !== 'object') {\n",
       "            obj[key] = original[key];\n",
       "        }\n",
       "        return obj;\n",
       "    }, {});\n",
       "}\n",
       "\n",
       "mpl.figure.prototype.mouse_event = function (event, name) {\n",
       "    var canvas_pos = mpl.findpos(event);\n",
       "\n",
       "    if (name === 'button_press') {\n",
       "        this.canvas.focus();\n",
       "        this.canvas_div.focus();\n",
       "    }\n",
       "\n",
       "    var x = canvas_pos.x * this.ratio;\n",
       "    var y = canvas_pos.y * this.ratio;\n",
       "\n",
       "    this.send_message(name, {\n",
       "        x: x,\n",
       "        y: y,\n",
       "        button: event.button,\n",
       "        step: event.step,\n",
       "        guiEvent: simpleKeys(event),\n",
       "    });\n",
       "\n",
       "    /* This prevents the web browser from automatically changing to\n",
       "     * the text insertion cursor when the button is pressed.  We want\n",
       "     * to control all of the cursor setting manually through the\n",
       "     * 'cursor' event from matplotlib */\n",
       "    event.preventDefault();\n",
       "    return false;\n",
       "};\n",
       "\n",
       "mpl.figure.prototype._key_event_extra = function (_event, _name) {\n",
       "    // Handle any extra behaviour associated with a key event\n",
       "};\n",
       "\n",
       "mpl.figure.prototype.key_event = function (event, name) {\n",
       "    // Prevent repeat events\n",
       "    if (name === 'key_press') {\n",
       "        if (event.key === this._key) {\n",
       "            return;\n",
       "        } else {\n",
       "            this._key = event.key;\n",
       "        }\n",
       "    }\n",
       "    if (name === 'key_release') {\n",
       "        this._key = null;\n",
       "    }\n",
       "\n",
       "    var value = '';\n",
       "    if (event.ctrlKey && event.key !== 'Control') {\n",
       "        value += 'ctrl+';\n",
       "    }\n",
       "    else if (event.altKey && event.key !== 'Alt') {\n",
       "        value += 'alt+';\n",
       "    }\n",
       "    else if (event.shiftKey && event.key !== 'Shift') {\n",
       "        value += 'shift+';\n",
       "    }\n",
       "\n",
       "    value += 'k' + event.key;\n",
       "\n",
       "    this._key_event_extra(event, name);\n",
       "\n",
       "    this.send_message(name, { key: value, guiEvent: simpleKeys(event) });\n",
       "    return false;\n",
       "};\n",
       "\n",
       "mpl.figure.prototype.toolbar_button_onclick = function (name) {\n",
       "    if (name === 'download') {\n",
       "        this.handle_save(this, null);\n",
       "    } else {\n",
       "        this.send_message('toolbar_button', { name: name });\n",
       "    }\n",
       "};\n",
       "\n",
       "mpl.figure.prototype.toolbar_button_onmouseover = function (tooltip) {\n",
       "    this.message.textContent = tooltip;\n",
       "};\n",
       "\n",
       "///////////////// REMAINING CONTENT GENERATED BY embed_js.py /////////////////\n",
       "// prettier-ignore\n",
       "var _JSXTOOLS_RESIZE_OBSERVER=function(A){var t,i=new WeakMap,n=new WeakMap,a=new WeakMap,r=new WeakMap,o=new Set;function s(e){if(!(this instanceof s))throw new TypeError(\"Constructor requires 'new' operator\");i.set(this,e)}function h(){throw new TypeError(\"Function is not a constructor\")}function c(e,t,i,n){e=0 in arguments?Number(arguments[0]):0,t=1 in arguments?Number(arguments[1]):0,i=2 in arguments?Number(arguments[2]):0,n=3 in arguments?Number(arguments[3]):0,this.right=(this.x=this.left=e)+(this.width=i),this.bottom=(this.y=this.top=t)+(this.height=n),Object.freeze(this)}function d(){t=requestAnimationFrame(d);var s=new WeakMap,p=new Set;o.forEach((function(t){r.get(t).forEach((function(i){var r=t instanceof window.SVGElement,o=a.get(t),d=r?0:parseFloat(o.paddingTop),f=r?0:parseFloat(o.paddingRight),l=r?0:parseFloat(o.paddingBottom),u=r?0:parseFloat(o.paddingLeft),g=r?0:parseFloat(o.borderTopWidth),m=r?0:parseFloat(o.borderRightWidth),w=r?0:parseFloat(o.borderBottomWidth),b=u+f,F=d+l,v=(r?0:parseFloat(o.borderLeftWidth))+m,W=g+w,y=r?0:t.offsetHeight-W-t.clientHeight,E=r?0:t.offsetWidth-v-t.clientWidth,R=b+v,z=F+W,M=r?t.width:parseFloat(o.width)-R-E,O=r?t.height:parseFloat(o.height)-z-y;if(n.has(t)){var k=n.get(t);if(k[0]===M&&k[1]===O)return}n.set(t,[M,O]);var S=Object.create(h.prototype);S.target=t,S.contentRect=new c(u,d,M,O),s.has(i)||(s.set(i,[]),p.add(i)),s.get(i).push(S)}))})),p.forEach((function(e){i.get(e).call(e,s.get(e),e)}))}return s.prototype.observe=function(i){if(i instanceof window.Element){r.has(i)||(r.set(i,new Set),o.add(i),a.set(i,window.getComputedStyle(i)));var n=r.get(i);n.has(this)||n.add(this),cancelAnimationFrame(t),t=requestAnimationFrame(d)}},s.prototype.unobserve=function(i){if(i instanceof window.Element&&r.has(i)){var n=r.get(i);n.has(this)&&(n.delete(this),n.size||(r.delete(i),o.delete(i))),n.size||r.delete(i),o.size||cancelAnimationFrame(t)}},A.DOMRectReadOnly=c,A.ResizeObserver=s,A.ResizeObserverEntry=h,A}; // eslint-disable-line\n",
       "mpl.toolbar_items = [[\"Home\", \"Reset original view\", \"fa fa-home icon-home\", \"home\"], [\"Back\", \"Back to previous view\", \"fa fa-arrow-left icon-arrow-left\", \"back\"], [\"Forward\", \"Forward to next view\", \"fa fa-arrow-right icon-arrow-right\", \"forward\"], [\"\", \"\", \"\", \"\"], [\"Pan\", \"Left button pans, Right button zooms\\nx/y fixes axis, CTRL fixes aspect\", \"fa fa-arrows icon-move\", \"pan\"], [\"Zoom\", \"Zoom to rectangle\\nx/y fixes axis, CTRL fixes aspect\", \"fa fa-square-o icon-check-empty\", \"zoom\"], [\"\", \"\", \"\", \"\"], [\"Download\", \"Download plot\", \"fa fa-floppy-o icon-save\", \"download\"]];\n",
       "\n",
       "mpl.extensions = [\"eps\", \"jpeg\", \"pgf\", \"pdf\", \"png\", \"ps\", \"raw\", \"svg\", \"tif\"];\n",
       "\n",
       "mpl.default_extension = \"png\";/* global mpl */\n",
       "\n",
       "var comm_websocket_adapter = function (comm) {\n",
       "    // Create a \"websocket\"-like object which calls the given IPython comm\n",
       "    // object with the appropriate methods. Currently this is a non binary\n",
       "    // socket, so there is still some room for performance tuning.\n",
       "    var ws = {};\n",
       "\n",
       "    ws.binaryType = comm.kernel.ws.binaryType;\n",
       "    ws.readyState = comm.kernel.ws.readyState;\n",
       "    function updateReadyState(_event) {\n",
       "        if (comm.kernel.ws) {\n",
       "            ws.readyState = comm.kernel.ws.readyState;\n",
       "        } else {\n",
       "            ws.readyState = 3; // Closed state.\n",
       "        }\n",
       "    }\n",
       "    comm.kernel.ws.addEventListener('open', updateReadyState);\n",
       "    comm.kernel.ws.addEventListener('close', updateReadyState);\n",
       "    comm.kernel.ws.addEventListener('error', updateReadyState);\n",
       "\n",
       "    ws.close = function () {\n",
       "        comm.close();\n",
       "    };\n",
       "    ws.send = function (m) {\n",
       "        //console.log('sending', m);\n",
       "        comm.send(m);\n",
       "    };\n",
       "    // Register the callback with on_msg.\n",
       "    comm.on_msg(function (msg) {\n",
       "        //console.log('receiving', msg['content']['data'], msg);\n",
       "        var data = msg['content']['data'];\n",
       "        if (data['blob'] !== undefined) {\n",
       "            data = {\n",
       "                data: new Blob(msg['buffers'], { type: data['blob'] }),\n",
       "            };\n",
       "        }\n",
       "        // Pass the mpl event to the overridden (by mpl) onmessage function.\n",
       "        ws.onmessage(data);\n",
       "    });\n",
       "    return ws;\n",
       "};\n",
       "\n",
       "mpl.mpl_figure_comm = function (comm, msg) {\n",
       "    // This is the function which gets called when the mpl process\n",
       "    // starts-up an IPython Comm through the \"matplotlib\" channel.\n",
       "\n",
       "    var id = msg.content.data.id;\n",
       "    // Get hold of the div created by the display call when the Comm\n",
       "    // socket was opened in Python.\n",
       "    var element = document.getElementById(id);\n",
       "    var ws_proxy = comm_websocket_adapter(comm);\n",
       "\n",
       "    function ondownload(figure, _format) {\n",
       "        window.open(figure.canvas.toDataURL());\n",
       "    }\n",
       "\n",
       "    var fig = new mpl.figure(id, ws_proxy, ondownload, element);\n",
       "\n",
       "    // Call onopen now - mpl needs it, as it is assuming we've passed it a real\n",
       "    // web socket which is closed, not our websocket->open comm proxy.\n",
       "    ws_proxy.onopen();\n",
       "\n",
       "    fig.parent_element = element;\n",
       "    fig.cell_info = mpl.find_output_cell(\"<div id='\" + id + \"'></div>\");\n",
       "    if (!fig.cell_info) {\n",
       "        console.error('Failed to find cell for figure', id, fig);\n",
       "        return;\n",
       "    }\n",
       "    fig.cell_info[0].output_area.element.on(\n",
       "        'cleared',\n",
       "        { fig: fig },\n",
       "        fig._remove_fig_handler\n",
       "    );\n",
       "};\n",
       "\n",
       "mpl.figure.prototype.handle_close = function (fig, msg) {\n",
       "    var width = fig.canvas.width / fig.ratio;\n",
       "    fig.cell_info[0].output_area.element.off(\n",
       "        'cleared',\n",
       "        fig._remove_fig_handler\n",
       "    );\n",
       "    fig.resizeObserverInstance.unobserve(fig.canvas_div);\n",
       "\n",
       "    // Update the output cell to use the data from the current canvas.\n",
       "    fig.push_to_output();\n",
       "    var dataURL = fig.canvas.toDataURL();\n",
       "    // Re-enable the keyboard manager in IPython - without this line, in FF,\n",
       "    // the notebook keyboard shortcuts fail.\n",
       "    IPython.keyboard_manager.enable();\n",
       "    fig.parent_element.innerHTML =\n",
       "        '<img src=\"' + dataURL + '\" width=\"' + width + '\">';\n",
       "    fig.close_ws(fig, msg);\n",
       "};\n",
       "\n",
       "mpl.figure.prototype.close_ws = function (fig, msg) {\n",
       "    fig.send_message('closing', msg);\n",
       "    // fig.ws.close()\n",
       "};\n",
       "\n",
       "mpl.figure.prototype.push_to_output = function (_remove_interactive) {\n",
       "    // Turn the data on the canvas into data in the output cell.\n",
       "    var width = this.canvas.width / this.ratio;\n",
       "    var dataURL = this.canvas.toDataURL();\n",
       "    this.cell_info[1]['text/html'] =\n",
       "        '<img src=\"' + dataURL + '\" width=\"' + width + '\">';\n",
       "};\n",
       "\n",
       "mpl.figure.prototype.updated_canvas_event = function () {\n",
       "    // Tell IPython that the notebook contents must change.\n",
       "    IPython.notebook.set_dirty(true);\n",
       "    this.send_message('ack', {});\n",
       "    var fig = this;\n",
       "    // Wait a second, then push the new image to the DOM so\n",
       "    // that it is saved nicely (might be nice to debounce this).\n",
       "    setTimeout(function () {\n",
       "        fig.push_to_output();\n",
       "    }, 1000);\n",
       "};\n",
       "\n",
       "mpl.figure.prototype._init_toolbar = function () {\n",
       "    var fig = this;\n",
       "\n",
       "    var toolbar = document.createElement('div');\n",
       "    toolbar.classList = 'btn-toolbar';\n",
       "    this.root.appendChild(toolbar);\n",
       "\n",
       "    function on_click_closure(name) {\n",
       "        return function (_event) {\n",
       "            return fig.toolbar_button_onclick(name);\n",
       "        };\n",
       "    }\n",
       "\n",
       "    function on_mouseover_closure(tooltip) {\n",
       "        return function (event) {\n",
       "            if (!event.currentTarget.disabled) {\n",
       "                return fig.toolbar_button_onmouseover(tooltip);\n",
       "            }\n",
       "        };\n",
       "    }\n",
       "\n",
       "    fig.buttons = {};\n",
       "    var buttonGroup = document.createElement('div');\n",
       "    buttonGroup.classList = 'btn-group';\n",
       "    var button;\n",
       "    for (var toolbar_ind in mpl.toolbar_items) {\n",
       "        var name = mpl.toolbar_items[toolbar_ind][0];\n",
       "        var tooltip = mpl.toolbar_items[toolbar_ind][1];\n",
       "        var image = mpl.toolbar_items[toolbar_ind][2];\n",
       "        var method_name = mpl.toolbar_items[toolbar_ind][3];\n",
       "\n",
       "        if (!name) {\n",
       "            /* Instead of a spacer, we start a new button group. */\n",
       "            if (buttonGroup.hasChildNodes()) {\n",
       "                toolbar.appendChild(buttonGroup);\n",
       "            }\n",
       "            buttonGroup = document.createElement('div');\n",
       "            buttonGroup.classList = 'btn-group';\n",
       "            continue;\n",
       "        }\n",
       "\n",
       "        button = fig.buttons[name] = document.createElement('button');\n",
       "        button.classList = 'btn btn-default';\n",
       "        button.href = '#';\n",
       "        button.title = name;\n",
       "        button.innerHTML = '<i class=\"fa ' + image + ' fa-lg\"></i>';\n",
       "        button.addEventListener('click', on_click_closure(method_name));\n",
       "        button.addEventListener('mouseover', on_mouseover_closure(tooltip));\n",
       "        buttonGroup.appendChild(button);\n",
       "    }\n",
       "\n",
       "    if (buttonGroup.hasChildNodes()) {\n",
       "        toolbar.appendChild(buttonGroup);\n",
       "    }\n",
       "\n",
       "    // Add the status bar.\n",
       "    var status_bar = document.createElement('span');\n",
       "    status_bar.classList = 'mpl-message pull-right';\n",
       "    toolbar.appendChild(status_bar);\n",
       "    this.message = status_bar;\n",
       "\n",
       "    // Add the close button to the window.\n",
       "    var buttongrp = document.createElement('div');\n",
       "    buttongrp.classList = 'btn-group inline pull-right';\n",
       "    button = document.createElement('button');\n",
       "    button.classList = 'btn btn-mini btn-primary';\n",
       "    button.href = '#';\n",
       "    button.title = 'Stop Interaction';\n",
       "    button.innerHTML = '<i class=\"fa fa-power-off icon-remove icon-large\"></i>';\n",
       "    button.addEventListener('click', function (_evt) {\n",
       "        fig.handle_close(fig, {});\n",
       "    });\n",
       "    button.addEventListener(\n",
       "        'mouseover',\n",
       "        on_mouseover_closure('Stop Interaction')\n",
       "    );\n",
       "    buttongrp.appendChild(button);\n",
       "    var titlebar = this.root.querySelector('.ui-dialog-titlebar');\n",
       "    titlebar.insertBefore(buttongrp, titlebar.firstChild);\n",
       "};\n",
       "\n",
       "mpl.figure.prototype._remove_fig_handler = function (event) {\n",
       "    var fig = event.data.fig;\n",
       "    if (event.target !== this) {\n",
       "        // Ignore bubbled events from children.\n",
       "        return;\n",
       "    }\n",
       "    fig.close_ws(fig, {});\n",
       "};\n",
       "\n",
       "mpl.figure.prototype._root_extra_style = function (el) {\n",
       "    el.style.boxSizing = 'content-box'; // override notebook setting of border-box.\n",
       "};\n",
       "\n",
       "mpl.figure.prototype._canvas_extra_style = function (el) {\n",
       "    // this is important to make the div 'focusable\n",
       "    el.setAttribute('tabindex', 0);\n",
       "    // reach out to IPython and tell the keyboard manager to turn it's self\n",
       "    // off when our div gets focus\n",
       "\n",
       "    // location in version 3\n",
       "    if (IPython.notebook.keyboard_manager) {\n",
       "        IPython.notebook.keyboard_manager.register_events(el);\n",
       "    } else {\n",
       "        // location in version 2\n",
       "        IPython.keyboard_manager.register_events(el);\n",
       "    }\n",
       "};\n",
       "\n",
       "mpl.figure.prototype._key_event_extra = function (event, _name) {\n",
       "    var manager = IPython.notebook.keyboard_manager;\n",
       "    if (!manager) {\n",
       "        manager = IPython.keyboard_manager;\n",
       "    }\n",
       "\n",
       "    // Check for shift+enter\n",
       "    if (event.shiftKey && event.which === 13) {\n",
       "        this.canvas_div.blur();\n",
       "        // select the cell after this one\n",
       "        var index = IPython.notebook.find_cell_index(this.cell_info[0]);\n",
       "        IPython.notebook.select(index + 1);\n",
       "    }\n",
       "};\n",
       "\n",
       "mpl.figure.prototype.handle_save = function (fig, _msg) {\n",
       "    fig.ondownload(fig, null);\n",
       "};\n",
       "\n",
       "mpl.find_output_cell = function (html_output) {\n",
       "    // Return the cell and output element which can be found *uniquely* in the notebook.\n",
       "    // Note - this is a bit hacky, but it is done because the \"notebook_saving.Notebook\"\n",
       "    // IPython event is triggered only after the cells have been serialised, which for\n",
       "    // our purposes (turning an active figure into a static one), is too late.\n",
       "    var cells = IPython.notebook.get_cells();\n",
       "    var ncells = cells.length;\n",
       "    for (var i = 0; i < ncells; i++) {\n",
       "        var cell = cells[i];\n",
       "        if (cell.cell_type === 'code') {\n",
       "            for (var j = 0; j < cell.output_area.outputs.length; j++) {\n",
       "                var data = cell.output_area.outputs[j];\n",
       "                if (data.data) {\n",
       "                    // IPython >= 3 moved mimebundle to data attribute of output\n",
       "                    data = data.data;\n",
       "                }\n",
       "                if (data['text/html'] === html_output) {\n",
       "                    return [cell, data, j];\n",
       "                }\n",
       "            }\n",
       "        }\n",
       "    }\n",
       "};\n",
       "\n",
       "// Register the function which deals with the matplotlib target/channel.\n",
       "// The kernel may be null if the page has been refreshed.\n",
       "if (IPython.notebook.kernel !== null) {\n",
       "    IPython.notebook.kernel.comm_manager.register_target(\n",
       "        'matplotlib',\n",
       "        mpl.mpl_figure_comm\n",
       "    );\n",
       "}\n"
      ],
      "text/plain": [
       "<IPython.core.display.Javascript object>"
      ]
     },
     "metadata": {},
     "output_type": "display_data"
    },
    {
     "data": {
      "text/html": [
       "<img src=\"data:image/png;base64,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\" width=\"576\">"
      ],
      "text/plain": [
       "<IPython.core.display.HTML object>"
      ]
     },
     "metadata": {},
     "output_type": "display_data"
    }
   ],
   "source": [
    "fig=plt.figure(figsize=(8,5))\n",
    "ax=plt.subplot(111)\n",
    "\n",
    "plt.ylim(min(sea.GMSL)-10, max(sea.GMSL)+10)\n",
    "\n",
    "\n",
    "def animation(i):\n",
    " \n",
    "    plt.title(f'Año {1880 + i}')\n",
    "\n",
    "    data_plot=sea.GMSL[sea.Year==1880 + i]    \n",
    "    \n",
    "    ax.plot(months[:len(data_plot)], \n",
    "            data_plot, \n",
    "            c=plt.cm.viridis(i*2));\n",
    "    \n",
    "    return ax\n",
    "\n",
    "\n",
    "\n",
    "anim=FuncAnimation(fig, \n",
    "                   animation, \n",
    "                   frames=len(sea.Year.unique()),\n",
    "                   interval=200,\n",
    "                   repeat=False)\n",
    "\n",
    "anim.save(r'../images/gmsl.gif')"
   ]
  },
  {
   "cell_type": "markdown",
   "id": "a51bba06",
   "metadata": {},
   "source": [
    "# Comparaciones de predicciones por década con la realidad"
   ]
  },
  {
   "cell_type": "code",
   "execution_count": 28,
   "id": "f38bfc1d",
   "metadata": {},
   "outputs": [],
   "source": [
    "%matplotlib inline\n",
    "plt.rcParams['animation.embed_limit'] = 2**128"
   ]
  },
  {
   "cell_type": "markdown",
   "id": "8a7b6787",
   "metadata": {},
   "source": [
    "### 1890's"
   ]
  },
  {
   "cell_type": "code",
   "execution_count": 29,
   "id": "9ccd59e4",
   "metadata": {},
   "outputs": [
    {
     "name": "stderr",
     "output_type": "stream",
     "text": [
      "INFO:fbprophet:Disabling weekly seasonality. Run prophet with weekly_seasonality=True to override this.\n",
      "INFO:fbprophet:Disabling daily seasonality. Run prophet with daily_seasonality=True to override this.\n"
     ]
    },
    {
     "name": "stdout",
     "output_type": "stream",
     "text": [
      "Initial log joint probability = -2.70627\n",
      "    Iter      log prob        ||dx||      ||grad||       alpha      alpha0  # evals  Notes \n",
      "      99       289.398   4.60211e-06       69.8561      0.3559           1      147   \n",
      "    Iter      log prob        ||dx||      ||grad||       alpha      alpha0  # evals  Notes \n",
      "     140       289.539   0.000175621       72.5529   2.046e-06       0.001      237  LS failed, Hessian reset \n",
      "     191       289.612     7.682e-06       67.7651   1.013e-07       0.001      355  LS failed, Hessian reset \n",
      "     199       289.613   1.92096e-06       67.7197       0.857       0.857      364   \n",
      "    Iter      log prob        ||dx||      ||grad||       alpha      alpha0  # evals  Notes \n",
      "     221       289.613   7.82041e-09        73.644      0.2932      0.7071      397   \n",
      "Optimization terminated normally: \n",
      "  Convergence detected: absolute parameter change was below tolerance\n"
     ]
    },
    {
     "data": {
      "text/html": [
       "<div>\n",
       "<style scoped>\n",
       "    .dataframe tbody tr th:only-of-type {\n",
       "        vertical-align: middle;\n",
       "    }\n",
       "\n",
       "    .dataframe tbody tr th {\n",
       "        vertical-align: top;\n",
       "    }\n",
       "\n",
       "    .dataframe thead th {\n",
       "        text-align: right;\n",
       "    }\n",
       "</style>\n",
       "<table border=\"1\" class=\"dataframe\">\n",
       "  <thead>\n",
       "    <tr style=\"text-align: right;\">\n",
       "      <th></th>\n",
       "      <th>ds</th>\n",
       "      <th>yhat</th>\n",
       "    </tr>\n",
       "    <tr>\n",
       "      <th>ds</th>\n",
       "      <th></th>\n",
       "      <th></th>\n",
       "    </tr>\n",
       "  </thead>\n",
       "  <tbody>\n",
       "    <tr>\n",
       "      <th>1890-01-31</th>\n",
       "      <td>1890-01-31</td>\n",
       "      <td>-143.833079</td>\n",
       "    </tr>\n",
       "    <tr>\n",
       "      <th>1890-02-28</th>\n",
       "      <td>1890-02-28</td>\n",
       "      <td>-153.067543</td>\n",
       "    </tr>\n",
       "    <tr>\n",
       "      <th>1890-03-31</th>\n",
       "      <td>1890-03-31</td>\n",
       "      <td>-153.010463</td>\n",
       "    </tr>\n",
       "    <tr>\n",
       "      <th>1890-04-30</th>\n",
       "      <td>1890-04-30</td>\n",
       "      <td>-137.855424</td>\n",
       "    </tr>\n",
       "    <tr>\n",
       "      <th>1890-05-31</th>\n",
       "      <td>1890-05-31</td>\n",
       "      <td>-143.449437</td>\n",
       "    </tr>\n",
       "  </tbody>\n",
       "</table>\n",
       "</div>"
      ],
      "text/plain": [
       "                   ds        yhat\n",
       "ds                               \n",
       "1890-01-31 1890-01-31 -143.833079\n",
       "1890-02-28 1890-02-28 -153.067543\n",
       "1890-03-31 1890-03-31 -153.010463\n",
       "1890-04-30 1890-04-30 -137.855424\n",
       "1890-05-31 1890-05-31 -143.449437"
      ]
     },
     "execution_count": 29,
     "metadata": {},
     "output_type": "execute_result"
    }
   ],
   "source": [
    "eight_90_pred = train_and_predict(eight_80)\n",
    "eight_90_pred.head()"
   ]
  },
  {
   "cell_type": "code",
   "execution_count": 30,
   "id": "def968af",
   "metadata": {},
   "outputs": [
    {
     "data": {
      "image/png": "[encoded data removed]",
      "text/plain": [
       "<Figure size 432x288 with 1 Axes>"
      ]
     },
     "metadata": {
      "needs_background": "light"
     },
     "output_type": "display_data"
    }
   ],
   "source": [
    "# Veamos la comparación de la predicción con la realidad\n",
    "comparador(eight_90.GMSL, eight_90_pred.yhat, sea.GMSL)"
   ]
  },
  {
   "cell_type": "markdown",
   "id": "e890b919",
   "metadata": {},
   "source": [
    "## 1900's"
   ]
  },
  {
   "cell_type": "code",
   "execution_count": 31,
   "id": "9b67824a",
   "metadata": {},
   "outputs": [],
   "source": [
    "sea.drop(['Year', 'Month'], axis=1, inplace=True)"
   ]
  },
  {
   "cell_type": "code",
   "execution_count": 32,
   "id": "1c3944b6",
   "metadata": {},
   "outputs": [
    {
     "name": "stderr",
     "output_type": "stream",
     "text": [
      "INFO:fbprophet:Disabling weekly seasonality. Run prophet with weekly_seasonality=True to override this.\n",
      "INFO:fbprophet:Disabling daily seasonality. Run prophet with daily_seasonality=True to override this.\n"
     ]
    },
    {
     "name": "stdout",
     "output_type": "stream",
     "text": [
      "Initial log joint probability = -2.77295\n",
      "    Iter      log prob        ||dx||      ||grad||       alpha      alpha0  # evals  Notes \n",
      "      99       607.099   8.95547e-06        68.966       0.589      0.0589      132   \n",
      "    Iter      log prob        ||dx||      ||grad||       alpha      alpha0  # evals  Notes \n",
      "     144       607.102   1.43741e-08       79.5885      0.3573           1      194   \n",
      "Optimization terminated normally: \n",
      "  Convergence detected: relative gradient magnitude is below tolerance\n"
     ]
    },
    {
     "data": {
      "text/html": [
       "<div>\n",
       "<style scoped>\n",
       "    .dataframe tbody tr th:only-of-type {\n",
       "        vertical-align: middle;\n",
       "    }\n",
       "\n",
       "    .dataframe tbody tr th {\n",
       "        vertical-align: top;\n",
       "    }\n",
       "\n",
       "    .dataframe thead th {\n",
       "        text-align: right;\n",
       "    }\n",
       "</style>\n",
       "<table border=\"1\" class=\"dataframe\">\n",
       "  <thead>\n",
       "    <tr style=\"text-align: right;\">\n",
       "      <th></th>\n",
       "      <th>ds</th>\n",
       "      <th>yhat</th>\n",
       "    </tr>\n",
       "    <tr>\n",
       "      <th>ds</th>\n",
       "      <th></th>\n",
       "      <th></th>\n",
       "    </tr>\n",
       "  </thead>\n",
       "  <tbody>\n",
       "    <tr>\n",
       "      <th>1900-01-31</th>\n",
       "      <td>1900-01-31</td>\n",
       "      <td>-123.618204</td>\n",
       "    </tr>\n",
       "    <tr>\n",
       "      <th>1900-02-28</th>\n",
       "      <td>1900-02-28</td>\n",
       "      <td>-106.962407</td>\n",
       "    </tr>\n",
       "    <tr>\n",
       "      <th>1900-03-31</th>\n",
       "      <td>1900-03-31</td>\n",
       "      <td>-129.742451</td>\n",
       "    </tr>\n",
       "    <tr>\n",
       "      <th>1900-04-30</th>\n",
       "      <td>1900-04-30</td>\n",
       "      <td>-125.031638</td>\n",
       "    </tr>\n",
       "    <tr>\n",
       "      <th>1900-05-31</th>\n",
       "      <td>1900-05-31</td>\n",
       "      <td>-140.317057</td>\n",
       "    </tr>\n",
       "  </tbody>\n",
       "</table>\n",
       "</div>"
      ],
      "text/plain": [
       "                   ds        yhat\n",
       "ds                               \n",
       "1900-01-31 1900-01-31 -123.618204\n",
       "1900-02-28 1900-02-28 -106.962407\n",
       "1900-03-31 1900-03-31 -129.742451\n",
       "1900-04-30 1900-04-30 -125.031638\n",
       "1900-05-31 1900-05-31 -140.317057"
      ]
     },
     "execution_count": 32,
     "metadata": {},
     "output_type": "execute_result"
    }
   ],
   "source": [
    "nines_00_pred = train_and_predict(sea.loc['1880-01-15' : '1899-12-15'])\n",
    "nines_00_pred.head()"
   ]
  },
  {
   "cell_type": "code",
   "execution_count": 33,
   "id": "b28d0820",
   "metadata": {},
   "outputs": [
    {
     "data": {
      "image/png": "[encoded data removed]",
      "text/plain": [
       "<Figure size 432x288 with 1 Axes>"
      ]
     },
     "metadata": {
      "needs_background": "light"
     },
     "output_type": "display_data"
    }
   ],
   "source": [
    "# Veamos la comparación de la predicción con la realidad\n",
    "comparador(nines_00.GMSL, nines_00_pred.yhat, sea.GMSL)"
   ]
  },
  {
   "cell_type": "markdown",
   "id": "d632d063",
   "metadata": {},
   "source": [
    "## 1910's"
   ]
  },
  {
   "cell_type": "code",
   "execution_count": 34,
   "id": "5979943f",
   "metadata": {},
   "outputs": [
    {
     "name": "stderr",
     "output_type": "stream",
     "text": [
      "INFO:fbprophet:Disabling weekly seasonality. Run prophet with weekly_seasonality=True to override this.\n",
      "INFO:fbprophet:Disabling daily seasonality. Run prophet with daily_seasonality=True to override this.\n"
     ]
    },
    {
     "name": "stdout",
     "output_type": "stream",
     "text": [
      "Initial log joint probability = -3.51518\n",
      "    Iter      log prob        ||dx||      ||grad||       alpha      alpha0  # evals  Notes \n",
      "      99       939.354    0.00108351       70.5854           1           1      138   \n",
      "    Iter      log prob        ||dx||      ||grad||       alpha      alpha0  # evals  Notes \n",
      "     101       939.391   0.000488908       75.7677   7.259e-06       0.001      171  LS failed, Hessian reset \n",
      "     144        939.41   1.11785e-05       75.9768   1.714e-07       0.001      272  LS failed, Hessian reset \n",
      "     193       939.416   0.000114426       61.1302   1.167e-06       0.001      382  LS failed, Hessian reset \n",
      "     199       939.419   1.90628e-05       56.7669      0.8924      0.8924      389   \n",
      "    Iter      log prob        ||dx||      ||grad||       alpha      alpha0  # evals  Notes \n",
      "     231       939.421   3.59306e-06       58.1762   5.667e-08       0.001      470  LS failed, Hessian reset \n",
      "     251       939.421   6.62372e-08       51.9392      0.4306      0.4306      496   \n",
      "Optimization terminated normally: \n",
      "  Convergence detected: relative gradient magnitude is below tolerance\n"
     ]
    },
    {
     "data": {
      "text/html": [
       "<div>\n",
       "<style scoped>\n",
       "    .dataframe tbody tr th:only-of-type {\n",
       "        vertical-align: middle;\n",
       "    }\n",
       "\n",
       "    .dataframe tbody tr th {\n",
       "        vertical-align: top;\n",
       "    }\n",
       "\n",
       "    .dataframe thead th {\n",
       "        text-align: right;\n",
       "    }\n",
       "</style>\n",
       "<table border=\"1\" class=\"dataframe\">\n",
       "  <thead>\n",
       "    <tr style=\"text-align: right;\">\n",
       "      <th></th>\n",
       "      <th>ds</th>\n",
       "      <th>yhat</th>\n",
       "    </tr>\n",
       "    <tr>\n",
       "      <th>ds</th>\n",
       "      <th></th>\n",
       "      <th></th>\n",
       "    </tr>\n",
       "  </thead>\n",
       "  <tbody>\n",
       "    <tr>\n",
       "      <th>1910-01-31</th>\n",
       "      <td>1910-01-31</td>\n",
       "      <td>-119.889166</td>\n",
       "    </tr>\n",
       "    <tr>\n",
       "      <th>1910-02-28</th>\n",
       "      <td>1910-02-28</td>\n",
       "      <td>-129.816605</td>\n",
       "    </tr>\n",
       "    <tr>\n",
       "      <th>1910-03-31</th>\n",
       "      <td>1910-03-31</td>\n",
       "      <td>-125.819607</td>\n",
       "    </tr>\n",
       "    <tr>\n",
       "      <th>1910-04-30</th>\n",
       "      <td>1910-04-30</td>\n",
       "      <td>-131.945592</td>\n",
       "    </tr>\n",
       "    <tr>\n",
       "      <th>1910-05-31</th>\n",
       "      <td>1910-05-31</td>\n",
       "      <td>-128.084201</td>\n",
       "    </tr>\n",
       "  </tbody>\n",
       "</table>\n",
       "</div>"
      ],
      "text/plain": [
       "                   ds        yhat\n",
       "ds                               \n",
       "1910-01-31 1910-01-31 -119.889166\n",
       "1910-02-28 1910-02-28 -129.816605\n",
       "1910-03-31 1910-03-31 -125.819607\n",
       "1910-04-30 1910-04-30 -131.945592\n",
       "1910-05-31 1910-05-31 -128.084201"
      ]
     },
     "execution_count": 34,
     "metadata": {},
     "output_type": "execute_result"
    }
   ],
   "source": [
    "nines_10_pred = train_and_predict(sea.loc['1880-01-15' : '1909-12-15'])\n",
    "nines_10_pred.head()"
   ]
  },
  {
   "cell_type": "code",
   "execution_count": 35,
   "id": "96e08b61",
   "metadata": {},
   "outputs": [
    {
     "data": {
      "image/png": "[encoded data removed]",
      "text/plain": [
       "<Figure size 432x288 with 1 Axes>"
      ]
     },
     "metadata": {
      "needs_background": "light"
     },
     "output_type": "display_data"
    }
   ],
   "source": [
    "# Veamos la comparación de la predicción con la realidad\n",
    "comparador(nines_10.GMSL, nines_10_pred.yhat, sea.GMSL)"
   ]
  },
  {
   "cell_type": "markdown",
   "id": "9e6c550f",
   "metadata": {},
   "source": [
    "## 1920's"
   ]
  },
  {
   "cell_type": "code",
   "execution_count": 36,
   "id": "b5e8f54e",
   "metadata": {},
   "outputs": [
    {
     "name": "stderr",
     "output_type": "stream",
     "text": [
      "INFO:fbprophet:Disabling weekly seasonality. Run prophet with weekly_seasonality=True to override this.\n",
      "INFO:fbprophet:Disabling daily seasonality. Run prophet with daily_seasonality=True to override this.\n"
     ]
    },
    {
     "name": "stdout",
     "output_type": "stream",
     "text": [
      "Initial log joint probability = -4.09066\n",
      "    Iter      log prob        ||dx||      ||grad||       alpha      alpha0  # evals  Notes \n",
      "      99       1250.08   0.000678168       62.0539      0.3641      0.3641      124   \n",
      "    Iter      log prob        ||dx||      ||grad||       alpha      alpha0  # evals  Notes \n",
      "     154       1250.19   1.96501e-05       58.5293   2.746e-07       0.001      247  LS failed, Hessian reset \n",
      "     186       1250.19   4.65927e-08       60.3274      0.2999      0.7278      290   \n",
      "Optimization terminated normally: \n",
      "  Convergence detected: relative gradient magnitude is below tolerance\n"
     ]
    },
    {
     "data": {
      "text/html": [
       "<div>\n",
       "<style scoped>\n",
       "    .dataframe tbody tr th:only-of-type {\n",
       "        vertical-align: middle;\n",
       "    }\n",
       "\n",
       "    .dataframe tbody tr th {\n",
       "        vertical-align: top;\n",
       "    }\n",
       "\n",
       "    .dataframe thead th {\n",
       "        text-align: right;\n",
       "    }\n",
       "</style>\n",
       "<table border=\"1\" class=\"dataframe\">\n",
       "  <thead>\n",
       "    <tr style=\"text-align: right;\">\n",
       "      <th></th>\n",
       "      <th>ds</th>\n",
       "      <th>yhat</th>\n",
       "    </tr>\n",
       "    <tr>\n",
       "      <th>ds</th>\n",
       "      <th></th>\n",
       "      <th></th>\n",
       "    </tr>\n",
       "  </thead>\n",
       "  <tbody>\n",
       "    <tr>\n",
       "      <th>1920-01-31</th>\n",
       "      <td>1920-01-31</td>\n",
       "      <td>-107.835515</td>\n",
       "    </tr>\n",
       "    <tr>\n",
       "      <th>1920-02-29</th>\n",
       "      <td>1920-02-29</td>\n",
       "      <td>-112.153633</td>\n",
       "    </tr>\n",
       "    <tr>\n",
       "      <th>1920-03-31</th>\n",
       "      <td>1920-03-31</td>\n",
       "      <td>-107.308813</td>\n",
       "    </tr>\n",
       "    <tr>\n",
       "      <th>1920-04-30</th>\n",
       "      <td>1920-04-30</td>\n",
       "      <td>-105.519255</td>\n",
       "    </tr>\n",
       "    <tr>\n",
       "      <th>1920-05-31</th>\n",
       "      <td>1920-05-31</td>\n",
       "      <td>-102.794526</td>\n",
       "    </tr>\n",
       "  </tbody>\n",
       "</table>\n",
       "</div>"
      ],
      "text/plain": [
       "                   ds        yhat\n",
       "ds                               \n",
       "1920-01-31 1920-01-31 -107.835515\n",
       "1920-02-29 1920-02-29 -112.153633\n",
       "1920-03-31 1920-03-31 -107.308813\n",
       "1920-04-30 1920-04-30 -105.519255\n",
       "1920-05-31 1920-05-31 -102.794526"
      ]
     },
     "execution_count": 36,
     "metadata": {},
     "output_type": "execute_result"
    }
   ],
   "source": [
    "nines_20_pred = train_and_predict(sea.loc['1880-01-15' : '1919-12-15'])\n",
    "nines_20_pred.head()"
   ]
  },
  {
   "cell_type": "code",
   "execution_count": 37,
   "id": "e4c29643",
   "metadata": {},
   "outputs": [
    {
     "data": {
      "image/png": "[encoded data removed]",
      "text/plain": [
       "<Figure size 432x288 with 1 Axes>"
      ]
     },
     "metadata": {
      "needs_background": "light"
     },
     "output_type": "display_data"
    }
   ],
   "source": [
    "# Veamos la comparación de la predicción con la realidad\n",
    "comparador(nines_20.GMSL, nines_20_pred.yhat, sea.GMSL)"
   ]
  },
  {
   "cell_type": "markdown",
   "id": "af8dd046",
   "metadata": {},
   "source": [
    "## 1930's"
   ]
  },
  {
   "cell_type": "code",
   "execution_count": 38,
   "id": "97979267",
   "metadata": {},
   "outputs": [
    {
     "name": "stderr",
     "output_type": "stream",
     "text": [
      "INFO:fbprophet:Disabling weekly seasonality. Run prophet with weekly_seasonality=True to override this.\n",
      "INFO:fbprophet:Disabling daily seasonality. Run prophet with daily_seasonality=True to override this.\n"
     ]
    },
    {
     "name": "stdout",
     "output_type": "stream",
     "text": [
      "Initial log joint probability = -5.60165\n",
      "    Iter      log prob        ||dx||      ||grad||       alpha      alpha0  # evals  Notes \n",
      "      99       1599.43   0.000521962        105.13      0.4617      0.4617      120   \n",
      "    Iter      log prob        ||dx||      ||grad||       alpha      alpha0  # evals  Notes \n",
      "     199       1600.47    0.00291876       74.3544      0.8678      0.8678      236   \n",
      "    Iter      log prob        ||dx||      ||grad||       alpha      alpha0  # evals  Notes \n",
      "     299       1600.74   5.28288e-06       70.8403      0.7328      0.7328      356   \n",
      "    Iter      log prob        ||dx||      ||grad||       alpha      alpha0  # evals  Notes \n",
      "     393       1600.81   0.000271459       109.213   3.155e-06       0.001      517  LS failed, Hessian reset \n",
      "     399       1600.82   5.13179e-05       63.3223       2.316      0.2316      525   \n",
      "    Iter      log prob        ||dx||      ||grad||       alpha      alpha0  # evals  Notes \n",
      "     485       1600.85   1.05193e-06       76.6284     0.07485           1      641   \n",
      "Optimization terminated normally: \n",
      "  Convergence detected: relative gradient magnitude is below tolerance\n"
     ]
    },
    {
     "data": {
      "text/html": [
       "<div>\n",
       "<style scoped>\n",
       "    .dataframe tbody tr th:only-of-type {\n",
       "        vertical-align: middle;\n",
       "    }\n",
       "\n",
       "    .dataframe tbody tr th {\n",
       "        vertical-align: top;\n",
       "    }\n",
       "\n",
       "    .dataframe thead th {\n",
       "        text-align: right;\n",
       "    }\n",
       "</style>\n",
       "<table border=\"1\" class=\"dataframe\">\n",
       "  <thead>\n",
       "    <tr style=\"text-align: right;\">\n",
       "      <th></th>\n",
       "      <th>ds</th>\n",
       "      <th>yhat</th>\n",
       "    </tr>\n",
       "    <tr>\n",
       "      <th>ds</th>\n",
       "      <th></th>\n",
       "      <th></th>\n",
       "    </tr>\n",
       "  </thead>\n",
       "  <tbody>\n",
       "    <tr>\n",
       "      <th>1930-01-31</th>\n",
       "      <td>1930-01-31</td>\n",
       "      <td>-109.952151</td>\n",
       "    </tr>\n",
       "    <tr>\n",
       "      <th>1930-02-28</th>\n",
       "      <td>1930-02-28</td>\n",
       "      <td>-111.234456</td>\n",
       "    </tr>\n",
       "    <tr>\n",
       "      <th>1930-03-31</th>\n",
       "      <td>1930-03-31</td>\n",
       "      <td>-105.890435</td>\n",
       "    </tr>\n",
       "    <tr>\n",
       "      <th>1930-04-30</th>\n",
       "      <td>1930-04-30</td>\n",
       "      <td>-107.606286</td>\n",
       "    </tr>\n",
       "    <tr>\n",
       "      <th>1930-05-31</th>\n",
       "      <td>1930-05-31</td>\n",
       "      <td>-107.768311</td>\n",
       "    </tr>\n",
       "  </tbody>\n",
       "</table>\n",
       "</div>"
      ],
      "text/plain": [
       "                   ds        yhat\n",
       "ds                               \n",
       "1930-01-31 1930-01-31 -109.952151\n",
       "1930-02-28 1930-02-28 -111.234456\n",
       "1930-03-31 1930-03-31 -105.890435\n",
       "1930-04-30 1930-04-30 -107.606286\n",
       "1930-05-31 1930-05-31 -107.768311"
      ]
     },
     "execution_count": 38,
     "metadata": {},
     "output_type": "execute_result"
    }
   ],
   "source": [
    "nines_30_pred = train_and_predict(sea.loc['1880-01-15' : '1929-12-15'])\n",
    "nines_30_pred.head()"
   ]
  },
  {
   "cell_type": "code",
   "execution_count": 39,
   "id": "136bc4a5",
   "metadata": {},
   "outputs": [
    {
     "data": {
      "image/png": "[encoded data removed]",
      "text/plain": [
       "<Figure size 432x288 with 1 Axes>"
      ]
     },
     "metadata": {
      "needs_background": "light"
     },
     "output_type": "display_data"
    }
   ],
   "source": [
    "# Veamos la comparación de la predicción con la realidad\n",
    "comparador(nines_30.GMSL, nines_30_pred.yhat, sea.GMSL)"
   ]
  },
  {
   "cell_type": "markdown",
   "id": "4121845a",
   "metadata": {},
   "source": [
    "## 1940's"
   ]
  },
  {
   "cell_type": "code",
   "execution_count": 40,
   "id": "d3d85e4f",
   "metadata": {},
   "outputs": [
    {
     "name": "stderr",
     "output_type": "stream",
     "text": [
      "INFO:fbprophet:Disabling weekly seasonality. Run prophet with weekly_seasonality=True to override this.\n",
      "INFO:fbprophet:Disabling daily seasonality. Run prophet with daily_seasonality=True to override this.\n"
     ]
    },
    {
     "name": "stdout",
     "output_type": "stream",
     "text": [
      "Initial log joint probability = -4.80818\n",
      "    Iter      log prob        ||dx||      ||grad||       alpha      alpha0  # evals  Notes \n",
      "      99        1945.3   0.000376776       116.143      0.5316      0.5316      127   \n",
      "    Iter      log prob        ||dx||      ||grad||       alpha      alpha0  # evals  Notes \n",
      "     190       1947.02   0.000170173       120.351   1.706e-06       0.001      276  LS failed, Hessian reset \n",
      "     199       1947.08   0.000193159       74.1919      0.1645           1      287   \n",
      "    Iter      log prob        ||dx||      ||grad||       alpha      alpha0  # evals  Notes \n",
      "     227       1947.11   7.43551e-05       76.7186   9.005e-07       0.001      357  LS failed, Hessian reset \n",
      "     299       1947.48   0.000898233       94.3741           1           1      448   \n",
      "    Iter      log prob        ||dx||      ||grad||       alpha      alpha0  # evals  Notes \n",
      "     359       1947.92   0.000196651        80.068   2.509e-06       0.001      568  LS failed, Hessian reset \n",
      "     399       1948.07   9.47536e-05       71.2286           1           1      613   \n",
      "    Iter      log prob        ||dx||      ||grad||       alpha      alpha0  # evals  Notes \n",
      "     499        1948.5   3.69379e-05       72.2236      0.2975           1      739   \n",
      "    Iter      log prob        ||dx||      ||grad||       alpha      alpha0  # evals  Notes \n",
      "     599       1948.55   2.35584e-05       54.8657           1           1      871   \n",
      "    Iter      log prob        ||dx||      ||grad||       alpha      alpha0  # evals  Notes \n",
      "     699       1948.71   4.69388e-05       79.5285      0.2419      0.2419      996   \n",
      "    Iter      log prob        ||dx||      ||grad||       alpha      alpha0  # evals  Notes \n",
      "     732       1948.88   0.000117256       103.643   1.279e-06       0.001     1062  LS failed, Hessian reset \n",
      "     799       1948.98   0.000188882       65.6712      0.9035      0.9035     1147   \n",
      "    Iter      log prob        ||dx||      ||grad||       alpha      alpha0  # evals  Notes \n",
      "     899       1949.05   5.38398e-06       74.6252      0.1767           1     1279   \n",
      "    Iter      log prob        ||dx||      ||grad||       alpha      alpha0  # evals  Notes \n",
      "     918       1949.05    1.0074e-06       63.9336   1.347e-08       0.001     1344  LS failed, Hessian reset \n",
      "     923       1949.05   9.91325e-08       57.1217       0.514       0.514     1350   \n",
      "Optimization terminated normally: \n",
      "  Convergence detected: relative gradient magnitude is below tolerance\n"
     ]
    },
    {
     "data": {
      "text/html": [
       "<div>\n",
       "<style scoped>\n",
       "    .dataframe tbody tr th:only-of-type {\n",
       "        vertical-align: middle;\n",
       "    }\n",
       "\n",
       "    .dataframe tbody tr th {\n",
       "        vertical-align: top;\n",
       "    }\n",
       "\n",
       "    .dataframe thead th {\n",
       "        text-align: right;\n",
       "    }\n",
       "</style>\n",
       "<table border=\"1\" class=\"dataframe\">\n",
       "  <thead>\n",
       "    <tr style=\"text-align: right;\">\n",
       "      <th></th>\n",
       "      <th>ds</th>\n",
       "      <th>yhat</th>\n",
       "    </tr>\n",
       "    <tr>\n",
       "      <th>ds</th>\n",
       "      <th></th>\n",
       "      <th></th>\n",
       "    </tr>\n",
       "  </thead>\n",
       "  <tbody>\n",
       "    <tr>\n",
       "      <th>1940-01-31</th>\n",
       "      <td>1940-01-31</td>\n",
       "      <td>-92.487615</td>\n",
       "    </tr>\n",
       "    <tr>\n",
       "      <th>1940-02-29</th>\n",
       "      <td>1940-02-29</td>\n",
       "      <td>-93.153143</td>\n",
       "    </tr>\n",
       "    <tr>\n",
       "      <th>1940-03-31</th>\n",
       "      <td>1940-03-31</td>\n",
       "      <td>-90.310507</td>\n",
       "    </tr>\n",
       "    <tr>\n",
       "      <th>1940-04-30</th>\n",
       "      <td>1940-04-30</td>\n",
       "      <td>-90.561430</td>\n",
       "    </tr>\n",
       "    <tr>\n",
       "      <th>1940-05-31</th>\n",
       "      <td>1940-05-31</td>\n",
       "      <td>-87.260662</td>\n",
       "    </tr>\n",
       "  </tbody>\n",
       "</table>\n",
       "</div>"
      ],
      "text/plain": [
       "                   ds       yhat\n",
       "ds                              \n",
       "1940-01-31 1940-01-31 -92.487615\n",
       "1940-02-29 1940-02-29 -93.153143\n",
       "1940-03-31 1940-03-31 -90.310507\n",
       "1940-04-30 1940-04-30 -90.561430\n",
       "1940-05-31 1940-05-31 -87.260662"
      ]
     },
     "execution_count": 40,
     "metadata": {},
     "output_type": "execute_result"
    }
   ],
   "source": [
    "nines_40_pred = train_and_predict(sea.loc['1880-01-15' : '1939-12-15'])\n",
    "nines_40_pred.head()"
   ]
  },
  {
   "cell_type": "code",
   "execution_count": 41,
   "id": "98f23386",
   "metadata": {},
   "outputs": [
    {
     "data": {
      "image/png": "[encoded data removed]",
      "text/plain": [
       "<Figure size 432x288 with 1 Axes>"
      ]
     },
     "metadata": {
      "needs_background": "light"
     },
     "output_type": "display_data"
    }
   ],
   "source": [
    "# Veamos la comparación de la predicción con la realidad\n",
    "comparador(nines_40.GMSL, nines_40_pred.yhat, sea.GMSL)"
   ]
  },
  {
   "cell_type": "markdown",
   "id": "6b723582",
   "metadata": {},
   "source": [
    "## 1950's"
   ]
  },
  {
   "cell_type": "code",
   "execution_count": 42,
   "id": "bc224a0c",
   "metadata": {},
   "outputs": [
    {
     "name": "stderr",
     "output_type": "stream",
     "text": [
      "INFO:fbprophet:Disabling weekly seasonality. Run prophet with weekly_seasonality=True to override this.\n",
      "INFO:fbprophet:Disabling daily seasonality. Run prophet with daily_seasonality=True to override this.\n"
     ]
    },
    {
     "name": "stdout",
     "output_type": "stream",
     "text": [
      "Initial log joint probability = -4.61325\n",
      "    Iter      log prob        ||dx||      ||grad||       alpha      alpha0  # evals  Notes \n",
      "      99       2283.39    0.00247192       185.618           1           1      122   \n",
      "    Iter      log prob        ||dx||      ||grad||       alpha      alpha0  # evals  Notes \n",
      "     182       2285.06   0.000105294       95.5903   1.168e-06       0.001      259  LS failed, Hessian reset \n",
      "     199       2285.19   8.13784e-05       55.7765      0.6029      0.6029      278   \n",
      "    Iter      log prob        ||dx||      ||grad||       alpha      alpha0  # evals  Notes \n",
      "     243       2285.37   0.000126786       112.742   1.403e-06       0.001      362  LS failed, Hessian reset \n",
      "     278       2285.53   7.47911e-05       66.3343   1.041e-06       0.001      442  LS failed, Hessian reset \n",
      "     299       2285.54   3.40188e-05       52.5718      0.4403      0.4403      470   \n",
      "    Iter      log prob        ||dx||      ||grad||       alpha      alpha0  # evals  Notes \n",
      "     399       2285.59   3.41707e-06       64.7096           1           1      606   \n",
      "    Iter      log prob        ||dx||      ||grad||       alpha      alpha0  # evals  Notes \n",
      "     406       2285.59   1.29151e-05       77.2845   1.945e-07       0.001      655  LS failed, Hessian reset \n",
      "     499       2285.61      1.44e-06       63.7168      0.4879      0.4879      772   \n",
      "    Iter      log prob        ||dx||      ||grad||       alpha      alpha0  # evals  Notes \n",
      "     512       2285.61   1.18416e-07       58.1533      0.2815           1      792   \n",
      "Optimization terminated normally: \n",
      "  Convergence detected: relative gradient magnitude is below tolerance\n"
     ]
    },
    {
     "data": {
      "text/html": [
       "<div>\n",
       "<style scoped>\n",
       "    .dataframe tbody tr th:only-of-type {\n",
       "        vertical-align: middle;\n",
       "    }\n",
       "\n",
       "    .dataframe tbody tr th {\n",
       "        vertical-align: top;\n",
       "    }\n",
       "\n",
       "    .dataframe thead th {\n",
       "        text-align: right;\n",
       "    }\n",
       "</style>\n",
       "<table border=\"1\" class=\"dataframe\">\n",
       "  <thead>\n",
       "    <tr style=\"text-align: right;\">\n",
       "      <th></th>\n",
       "      <th>ds</th>\n",
       "      <th>yhat</th>\n",
       "    </tr>\n",
       "    <tr>\n",
       "      <th>ds</th>\n",
       "      <th></th>\n",
       "      <th></th>\n",
       "    </tr>\n",
       "  </thead>\n",
       "  <tbody>\n",
       "    <tr>\n",
       "      <th>1950-01-31</th>\n",
       "      <td>1950-01-31</td>\n",
       "      <td>-69.106807</td>\n",
       "    </tr>\n",
       "    <tr>\n",
       "      <th>1950-02-28</th>\n",
       "      <td>1950-02-28</td>\n",
       "      <td>-73.042646</td>\n",
       "    </tr>\n",
       "    <tr>\n",
       "      <th>1950-03-31</th>\n",
       "      <td>1950-03-31</td>\n",
       "      <td>-68.266386</td>\n",
       "    </tr>\n",
       "    <tr>\n",
       "      <th>1950-04-30</th>\n",
       "      <td>1950-04-30</td>\n",
       "      <td>-68.497641</td>\n",
       "    </tr>\n",
       "    <tr>\n",
       "      <th>1950-05-31</th>\n",
       "      <td>1950-05-31</td>\n",
       "      <td>-64.403708</td>\n",
       "    </tr>\n",
       "  </tbody>\n",
       "</table>\n",
       "</div>"
      ],
      "text/plain": [
       "                   ds       yhat\n",
       "ds                              \n",
       "1950-01-31 1950-01-31 -69.106807\n",
       "1950-02-28 1950-02-28 -73.042646\n",
       "1950-03-31 1950-03-31 -68.266386\n",
       "1950-04-30 1950-04-30 -68.497641\n",
       "1950-05-31 1950-05-31 -64.403708"
      ]
     },
     "execution_count": 42,
     "metadata": {},
     "output_type": "execute_result"
    }
   ],
   "source": [
    "nines_50_pred = train_and_predict(sea.loc['1880-01-15' : '1949-12-15'])\n",
    "nines_50_pred.head()"
   ]
  },
  {
   "cell_type": "code",
   "execution_count": 43,
   "id": "fe8b65eb",
   "metadata": {},
   "outputs": [
    {
     "data": {
      "image/png": "[encoded data removed]",
      "text/plain": [
       "<Figure size 432x288 with 1 Axes>"
      ]
     },
     "metadata": {
      "needs_background": "light"
     },
     "output_type": "display_data"
    }
   ],
   "source": [
    "# Veamos la comparación de la predicción con la realidad\n",
    "comparador(nines_50.GMSL, nines_50_pred.yhat, sea.GMSL)"
   ]
  },
  {
   "cell_type": "markdown",
   "id": "1111fd90",
   "metadata": {},
   "source": [
    "## 1960's"
   ]
  },
  {
   "cell_type": "code",
   "execution_count": 44,
   "id": "601f3eec",
   "metadata": {},
   "outputs": [
    {
     "name": "stderr",
     "output_type": "stream",
     "text": [
      "INFO:fbprophet:Disabling weekly seasonality. Run prophet with weekly_seasonality=True to override this.\n",
      "INFO:fbprophet:Disabling daily seasonality. Run prophet with daily_seasonality=True to override this.\n"
     ]
    },
    {
     "name": "stdout",
     "output_type": "stream",
     "text": [
      "Initial log joint probability = -4.6342\n",
      "    Iter      log prob        ||dx||      ||grad||       alpha      alpha0  # evals  Notes \n",
      "      99       2631.54   0.000913085       92.9193           1           1      118   \n",
      "    Iter      log prob        ||dx||      ||grad||       alpha      alpha0  # evals  Notes \n",
      "     199       2634.61   0.000241974        126.11        0.88        0.88      245   \n",
      "    Iter      log prob        ||dx||      ||grad||       alpha      alpha0  # evals  Notes \n",
      "     262        2634.9   0.000284293       195.488   3.217e-06       0.001      362  LS failed, Hessian reset \n",
      "     299       2634.94   5.64102e-05       61.0697      0.7531      0.7531      409   \n",
      "    Iter      log prob        ||dx||      ||grad||       alpha      alpha0  # evals  Notes \n",
      "     356       2635.04   0.000141138       79.6997   1.806e-06       0.001      533  LS failed, Hessian reset \n",
      "     386       2635.05   9.69774e-06       52.9092     1.2e-07       0.001      611  LS failed, Hessian reset \n",
      "     399       2635.05   4.88845e-07       46.1721           1           1      629   \n",
      "    Iter      log prob        ||dx||      ||grad||       alpha      alpha0  # evals  Notes \n",
      "     416       2635.05    2.3721e-07       63.6323      0.6705      0.6705      651   \n",
      "Optimization terminated normally: \n",
      "  Convergence detected: relative gradient magnitude is below tolerance\n"
     ]
    },
    {
     "data": {
      "text/html": [
       "<div>\n",
       "<style scoped>\n",
       "    .dataframe tbody tr th:only-of-type {\n",
       "        vertical-align: middle;\n",
       "    }\n",
       "\n",
       "    .dataframe tbody tr th {\n",
       "        vertical-align: top;\n",
       "    }\n",
       "\n",
       "    .dataframe thead th {\n",
       "        text-align: right;\n",
       "    }\n",
       "</style>\n",
       "<table border=\"1\" class=\"dataframe\">\n",
       "  <thead>\n",
       "    <tr style=\"text-align: right;\">\n",
       "      <th></th>\n",
       "      <th>ds</th>\n",
       "      <th>yhat</th>\n",
       "    </tr>\n",
       "    <tr>\n",
       "      <th>ds</th>\n",
       "      <th></th>\n",
       "      <th></th>\n",
       "    </tr>\n",
       "  </thead>\n",
       "  <tbody>\n",
       "    <tr>\n",
       "      <th>1960-01-31</th>\n",
       "      <td>1960-01-31</td>\n",
       "      <td>-48.765605</td>\n",
       "    </tr>\n",
       "    <tr>\n",
       "      <th>1960-02-29</th>\n",
       "      <td>1960-02-29</td>\n",
       "      <td>-47.443430</td>\n",
       "    </tr>\n",
       "    <tr>\n",
       "      <th>1960-03-31</th>\n",
       "      <td>1960-03-31</td>\n",
       "      <td>-44.966676</td>\n",
       "    </tr>\n",
       "    <tr>\n",
       "      <th>1960-04-30</th>\n",
       "      <td>1960-04-30</td>\n",
       "      <td>-46.147647</td>\n",
       "    </tr>\n",
       "    <tr>\n",
       "      <th>1960-05-31</th>\n",
       "      <td>1960-05-31</td>\n",
       "      <td>-44.269823</td>\n",
       "    </tr>\n",
       "  </tbody>\n",
       "</table>\n",
       "</div>"
      ],
      "text/plain": [
       "                   ds       yhat\n",
       "ds                              \n",
       "1960-01-31 1960-01-31 -48.765605\n",
       "1960-02-29 1960-02-29 -47.443430\n",
       "1960-03-31 1960-03-31 -44.966676\n",
       "1960-04-30 1960-04-30 -46.147647\n",
       "1960-05-31 1960-05-31 -44.269823"
      ]
     },
     "execution_count": 44,
     "metadata": {},
     "output_type": "execute_result"
    }
   ],
   "source": [
    "nines_60_pred = train_and_predict(sea.loc['1880-01-15' : '1959-12-15'])\n",
    "nines_60_pred.head()"
   ]
  },
  {
   "cell_type": "code",
   "execution_count": 45,
   "id": "aaeb11f4",
   "metadata": {},
   "outputs": [
    {
     "data": {
      "image/png": "[encoded data removed]",
      "text/plain": [
       "<Figure size 432x288 with 1 Axes>"
      ]
     },
     "metadata": {
      "needs_background": "light"
     },
     "output_type": "display_data"
    }
   ],
   "source": [
    "# Veamos la comparación de la predicción con la realidad\n",
    "comparador(nines_60.GMSL, nines_60_pred.yhat, sea.GMSL)"
   ]
  },
  {
   "cell_type": "markdown",
   "id": "1b2a4f63",
   "metadata": {},
   "source": [
    "## 1970's"
   ]
  },
  {
   "cell_type": "code",
   "execution_count": null,
   "id": "63e683fc",
   "metadata": {},
   "outputs": [
    {
     "name": "stderr",
     "output_type": "stream",
     "text": [
      "INFO:fbprophet:Disabling weekly seasonality. Run prophet with weekly_seasonality=True to override this.\n",
      "INFO:fbprophet:Disabling daily seasonality. Run prophet with daily_seasonality=True to override this.\n"
     ]
    },
    {
     "name": "stdout",
     "output_type": "stream",
     "text": [
      "Initial log joint probability = -4.99678\n",
      "    Iter      log prob        ||dx||      ||grad||       alpha      alpha0  # evals  Notes \n",
      "      99        2948.2    0.00286604       587.059      0.8886      0.8886      120   \n",
      "    Iter      log prob        ||dx||      ||grad||       alpha      alpha0  # evals  Notes \n",
      "     155       2950.25   9.65627e-05        118.54   6.152e-07       0.001      228  LS failed, Hessian reset \n",
      "     199       2951.11    0.00174827        213.17      0.3787           1      282   \n",
      "    Iter      log prob        ||dx||      ||grad||       alpha      alpha0  # evals  Notes \n",
      "     262       2952.27   0.000153699        168.54   6.107e-07       0.001      388  LS failed, Hessian reset \n",
      "     299       2952.68   0.000373946       128.452           1           1      436   \n",
      "    Iter      log prob        ||dx||      ||grad||       alpha      alpha0  # evals  Notes \n",
      "     317       2953.07   0.000350598       219.873   2.977e-06       0.001      490  LS failed, Hessian reset \n",
      "     399        2953.6   0.000169998       92.4643           1           1      588   \n",
      "    Iter      log prob        ||dx||      ||grad||       alpha      alpha0  # evals  Notes \n",
      "     450        2953.7   6.69605e-05       99.1988   9.604e-07       0.001      698  LS failed, Hessian reset \n",
      "     499       2953.77    0.00212766       95.7734           1           1      756   \n",
      "    Iter      log prob        ||dx||      ||grad||       alpha      alpha0  # evals  Notes \n",
      "     542       2953.79   1.41722e-07       54.4067       0.543       0.543      812   \n",
      "Optimization terminated normally: \n",
      "  Convergence detected: relative gradient magnitude is below tolerance\n"
     ]
    }
   ],
   "source": [
    "nines_70_pred = train_and_predict(sea.loc['1880-01-15' : '1969-12-15'])\n",
    "nines_70_pred.head()"
   ]
  },
  {
   "cell_type": "code",
   "execution_count": null,
   "id": "8ae2c760",
   "metadata": {},
   "outputs": [],
   "source": [
    "# Veamos la comparación de la predicción con la realidad\n",
    "comparador(nines_70.GMSL, nines_70_pred.yhat, sea.GMSL)"
   ]
  },
  {
   "cell_type": "markdown",
   "id": "32be3a2f",
   "metadata": {},
   "source": [
    "## 1980's"
   ]
  },
  {
   "cell_type": "code",
   "execution_count": null,
   "id": "ed13956e",
   "metadata": {},
   "outputs": [],
   "source": [
    "nines_80_pred = train_and_predict(sea.loc['1880-01-15' : '1979-12-15'])\n",
    "nines_80_pred.head()"
   ]
  },
  {
   "cell_type": "code",
   "execution_count": null,
   "id": "6b0225e3",
   "metadata": {},
   "outputs": [],
   "source": [
    "# Veamos la comparación de la predicción con la realidad\n",
    "comparador(nines_80.GMSL, nines_80_pred.yhat, sea.GMSL)"
   ]
  },
  {
   "cell_type": "markdown",
   "id": "2cc81595",
   "metadata": {},
   "source": [
    "## 1990's"
   ]
  },
  {
   "cell_type": "code",
   "execution_count": null,
   "id": "1794f289",
   "metadata": {},
   "outputs": [],
   "source": [
    "nines_90_pred = train_and_predict(sea.loc['1880-01-15' : '1989-12-15'])\n",
    "nines_90_pred.head()"
   ]
  },
  {
   "cell_type": "code",
   "execution_count": null,
   "id": "dcc81a20",
   "metadata": {},
   "outputs": [],
   "source": [
    "# Veamos la comparación de la predicción con la realidad\n",
    "comparador(nines_90.GMSL, nines_90_pred.yhat, sea.GMSL)"
   ]
  },
  {
   "cell_type": "markdown",
   "id": "b329c94b",
   "metadata": {},
   "source": [
    "## 2000's"
   ]
  },
  {
   "cell_type": "code",
   "execution_count": null,
   "id": "78e6d590",
   "metadata": {},
   "outputs": [],
   "source": [
    "twnt_00_pred = train_and_predict(sea.loc['1880-01-15' : '1999-12-15'])\n",
    "twnt_00_pred.head()"
   ]
  },
  {
   "cell_type": "code",
   "execution_count": null,
   "id": "95f48c6b",
   "metadata": {},
   "outputs": [],
   "source": [
    "# Veamos la comparación de la predicción con la realidad\n",
    "comparador(twnt_00.GMSL, twnt_00_pred.yhat, sea.GMSL)"
   ]
  },
  {
   "cell_type": "markdown",
   "id": "8db84f9b",
   "metadata": {},
   "source": [
    "## Proyecto 2050's"
   ]
  },
  {
   "cell_type": "code",
   "execution_count": null,
   "id": "4ed8b979",
   "metadata": {},
   "outputs": [],
   "source": [
    "twnt_50_pred = train_and_predict_till2050(sea)\n",
    "twnt_50_pred.head()"
   ]
  },
  {
   "cell_type": "code",
   "execution_count": null,
   "id": "d53d5bd1",
   "metadata": {},
   "outputs": [],
   "source": [
    "plt.plot(twnt_50_pred.yhat)\n",
    "plt.plot(sea.GMSL)\n",
    "plt.ylim((min(sea.GMSL), max(twnt_50_pred.yhat+10)));"
   ]
  },
  {
   "cell_type": "markdown",
   "id": "8327ef77",
   "metadata": {},
   "source": [
    "#### Como sale un modelo demasiado lineal, hay que añadirle un poco de ruido porque si no, no queda lo suficientemente real"
   ]
  },
  {
   "cell_type": "code",
   "execution_count": null,
   "id": "0af1c619",
   "metadata": {},
   "outputs": [],
   "source": [
    "# añadimos algo de desviacion a la prediccion, para el plot (comentar esta casilla para ver prediccion en crudo)\n",
    "\n",
    "forecast_noise=pd.DataFrame()\n",
    "\n",
    "forecast_noise['Time']=twnt_50_pred.ds\n",
    "\n",
    "forecast_noise['GMSL']=np.random.uniform(twnt_50_pred.yhat_lower, twnt_50_pred.yhat_upper)\n",
    "\n",
    "forecast_noise.head()"
   ]
  },
  {
   "cell_type": "code",
   "execution_count": null,
   "id": "5481a50b",
   "metadata": {},
   "outputs": [],
   "source": [
    "total_df = pd.concat([sea[['Time', 'GMSL']], forecast_noise], axis=0)\n",
    "total_df.head()"
   ]
  },
  {
   "cell_type": "code",
   "execution_count": null,
   "id": "6b7fdbbf",
   "metadata": {},
   "outputs": [],
   "source": [
    "total_df.tail()"
   ]
  },
  {
   "cell_type": "code",
   "execution_count": null,
   "id": "30864d2f",
   "metadata": {},
   "outputs": [],
   "source": [
    "total_df.info()"
   ]
  },
  {
   "cell_type": "code",
   "execution_count": null,
   "id": "61ddedbf",
   "metadata": {},
   "outputs": [],
   "source": [
    "total_df.Time = total_df.Time.astype(str)\n",
    "\n",
    "total_df['Year'] = total_df.Time.apply(lambda x: x.split('-')[0]).astype(int)\n",
    "total_df['Month'] = total_df.Time.apply(lambda x:x.split('-')[1]).astype(int)\n",
    "\n",
    "total_df.tail()"
   ]
  },
  {
   "cell_type": "code",
   "execution_count": null,
   "id": "6f1a9624",
   "metadata": {},
   "outputs": [],
   "source": [
    "%matplotlib notebook\n",
    "plt.rcParams['animation.embed_limit'] = 2**128"
   ]
  },
  {
   "cell_type": "code",
   "execution_count": null,
   "id": "bdb59f33",
   "metadata": {},
   "outputs": [],
   "source": [
    "total_df.Time = total_df.Time.astype(str)\n",
    "\n",
    "total_df['Year'] = total_df.Time.apply(lambda x: x.split('-')[0]).astype(int)\n",
    "total_df['Month'] = total_df.Time.apply(lambda x:x.split('-')[1]).astype(int)\n",
    "total_df.head()"
   ]
  },
  {
   "cell_type": "code",
   "execution_count": null,
   "id": "38cabb9c",
   "metadata": {},
   "outputs": [],
   "source": [
    "# creacion de array de angulos\n",
    "theta=np.linspace(0, 2*np.pi, 12)  # para 12 meses, representacion de datos\n",
    "\n",
    "# inicia figura\n",
    "fig=plt.figure(figsize=(9,9))\n",
    "ax=plt.subplot(111, projection='polar')\n",
    "\n",
    "\n",
    "# circulos informativos\n",
    "ax.plot(np.linspace(0, 2*np.pi, 1000), [min(total_df.GMSL[total_df['Year']==1900]) for _ in range(1000)], c='green')\n",
    "ax.text(np.pi/2, min(total_df.GMSL[total_df['Year']==1900]), '-100 cm', color='green', ha='center', fontdict={'fontsize': 20})\n",
    "\n",
    "ax.plot(np.linspace(0, 2*np.pi, 1000), [min(total_df.GMSL[total_df['Year']==1950]) for _ in range(1000)], c='green')\n",
    "ax.text(np.pi/2, min(total_df.GMSL[total_df['Year']==1950]), '-50 cm', color='green', ha='center', fontdict={'fontsize': 20})\n",
    "\n",
    "ax.plot(np.linspace(0, 2*np.pi, 1000), [min(total_df.GMSL[total_df['Year']==2000]) for _ in range(1000)], c='orange')\n",
    "ax.text(np.pi/2, min(total_df.GMSL[total_df['Year']==2000]), '0 cm', color='orange', ha='center', fontdict={'fontsize': 20})\n",
    "\n",
    "ax.plot(np.linspace(0, 2*np.pi, 1000), [min(total_df.GMSL[total_df['Year']==2022]) for _ in range(1000)], c='white')\n",
    "ax.text(np.pi/2, min(total_df.GMSL[total_df['Year']==2022]), 'Actualidad', color='white', ha='center', fontdict={'fontsize': 20})\n",
    "\n",
    "ax.plot(np.linspace(0, 2*np.pi, 1000), [min(total_df.GMSL[total_df['Year']==2010]) for _ in range(1000)], c='orange')\n",
    "ax.text(np.pi/2, min(total_df.GMSL[total_df['Year']==2010]), '50 cm', color='orange', ha='center', fontdict={'fontsize': 20})\n",
    "\n",
    "ax.plot(np.linspace(0, 2*np.pi, 1000), [min(total_df.GMSL[total_df['Year']==2035]) for _ in range(1000)], c='red')\n",
    "ax.text(np.pi/2, min(total_df.GMSL[total_df['Year']==2035]), '150 cm', color='red', ha='center', fontdict={'fontsize': 20})\n",
    "\n",
    "# elimina etiquetas\n",
    "ax.axes.get_yaxis().set_ticklabels([])\n",
    "ax.axes.get_xaxis().set_ticklabels([])\n",
    "\n",
    "# setup\n",
    "ax.set_ylim(min(sea.GMSL)-10, max(total_df.GMSL)+50)\n",
    "ax.set_facecolor('#000100')\n",
    "ax.grid(False)\n",
    "\n",
    "\n",
    "# bucle para representar cada año\n",
    "years=total_df.Year.unique()\n",
    "\n",
    "\n",
    "months_angles=np.linspace((np.pi/2)+(2*np.pi), np.pi/2, 13)\n",
    "\n",
    "for i,month in enumerate(months):\n",
    "    ax.text(months_angles[i], 50 ,month, color='white', fontsize=15, ha='center')\n",
    "\n",
    "def animation(i):\n",
    "    # Borra el ultimo año del centro y deja el ultimo\n",
    "    for txt in ax.texts:\n",
    "        if (txt.get_position()==(0,0)) and i!=len(years):\n",
    "            txt.set_visible(False)\n",
    "        \n",
    "    # datos\n",
    "    data_plot=total_df[total_df.Year==years[i]].GMSL\n",
    "    \n",
    "    # visualizacion\n",
    "    plt.title(f'Año {1880 + i}', fontsize=20)\n",
    "    ax.plot(theta[:len(data_plot)], \n",
    "            data_plot, \n",
    "            c=plt.get_cmap('jet')(i))\n",
    "    \n",
    "    return ax\n",
    "\n",
    "\n",
    "\n",
    "anim=FuncAnimation(fig, \n",
    "                   animation, \n",
    "                   frames=len(years), \n",
    "                   interval=100,\n",
    "                   repeat=False)\n",
    "\n",
    "anim.save(f'../images/polar_gmsl.gif')"
   ]
  },
  {
   "cell_type": "code",
   "execution_count": null,
   "id": "1853e2e9",
   "metadata": {},
   "outputs": [],
   "source": []
  }
 ],
 "metadata": {
  "kernelspec": {
   "display_name": "Python 3 (ipykernel)",
   "language": "python",
   "name": "python3"
  },
  "language_info": {
   "codemirror_mode": {
    "name": "ipython",
    "version": 3
   },
   "file_extension": ".py",
   "mimetype": "text/x-python",
   "name": "python",
   "nbconvert_exporter": "python",
   "pygments_lexer": "ipython3",
   "version": "3.9.7"
  }
 },
 "nbformat": 4,
 "nbformat_minor": 5
}
