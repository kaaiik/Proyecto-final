{
 "cells": [
  {
   "cell_type": "markdown",
   "id": "516c80af",
   "metadata": {},
   "source": [
    "# Importación de librerías"
   ]
  },
  {
   "cell_type": "code",
   "execution_count": 1,
   "id": "756430d8",
   "metadata": {},
   "outputs": [],
   "source": [
    "import sys\n",
    "sys.path.append('../')\n",
    "\n",
    "from src.func_aux_cities import *"
   ]
  },
  {
   "cell_type": "markdown",
   "id": "de3f703b",
   "metadata": {},
   "source": [
    "# Carga de datos"
   ]
  },
  {
   "cell_type": "markdown",
   "id": "37f7ee5d",
   "metadata": {},
   "source": [
    "## Capitales"
   ]
  },
  {
   "cell_type": "code",
   "execution_count": 2,
   "id": "d3d538c8",
   "metadata": {},
   "outputs": [
    {
     "data": {
      "text/html": [
       "<div>\n",
       "<style scoped>\n",
       "    .dataframe tbody tr th:only-of-type {\n",
       "        vertical-align: middle;\n",
       "    }\n",
       "\n",
       "    .dataframe tbody tr th {\n",
       "        vertical-align: top;\n",
       "    }\n",
       "\n",
       "    .dataframe thead th {\n",
       "        text-align: right;\n",
       "    }\n",
       "</style>\n",
       "<table border=\"1\" class=\"dataframe\">\n",
       "  <thead>\n",
       "    <tr style=\"text-align: right;\">\n",
       "      <th></th>\n",
       "      <th>Country</th>\n",
       "      <th>Capital</th>\n",
       "      <th>Elevation (m)</th>\n",
       "      <th>Elevation (ft)</th>\n",
       "    </tr>\n",
       "  </thead>\n",
       "  <tbody>\n",
       "    <tr>\n",
       "      <th>0</th>\n",
       "      <td>Bolivia\\n</td>\n",
       "      <td>La Paz\\n</td>\n",
       "      <td>3,640</td>\n",
       "      <td>11,942\\n</td>\n",
       "    </tr>\n",
       "    <tr>\n",
       "      <th>1</th>\n",
       "      <td>Ecuador\\n</td>\n",
       "      <td>Quito\\n</td>\n",
       "      <td>2,850</td>\n",
       "      <td>9,350\\n</td>\n",
       "    </tr>\n",
       "    <tr>\n",
       "      <th>2</th>\n",
       "      <td>Colombia\\n</td>\n",
       "      <td>Bogotá\\n</td>\n",
       "      <td>2,625</td>\n",
       "      <td>8,612\\n</td>\n",
       "    </tr>\n",
       "    <tr>\n",
       "      <th>3</th>\n",
       "      <td>Ethiopia\\n</td>\n",
       "      <td>Addis Ababa\\n</td>\n",
       "      <td>2,355</td>\n",
       "      <td>7,726\\n</td>\n",
       "    </tr>\n",
       "    <tr>\n",
       "      <th>4</th>\n",
       "      <td>Bhutan\\n</td>\n",
       "      <td>Thimphu\\n</td>\n",
       "      <td>2,334</td>\n",
       "      <td>7,657\\n</td>\n",
       "    </tr>\n",
       "  </tbody>\n",
       "</table>\n",
       "</div>"
      ],
      "text/plain": [
       "       Country        Capital Elevation (m) Elevation (ft)\n",
       "0    Bolivia\\n       La Paz\\n         3,640       11,942\\n\n",
       "1    Ecuador\\n        Quito\\n         2,850        9,350\\n\n",
       "2   Colombia\\n       Bogotá\\n         2,625        8,612\\n\n",
       "3   Ethiopia\\n  Addis Ababa\\n         2,355        7,726\\n\n",
       "4     Bhutan\\n      Thimphu\\n         2,334        7,657\\n"
      ]
     },
     "execution_count": 2,
     "metadata": {},
     "output_type": "execute_result"
    }
   ],
   "source": [
    "df = get_df('https://en.wikipedia.org/wiki/List_of_capital_cities_by_elevation')\n",
    "df.head()"
   ]
  },
  {
   "cell_type": "code",
   "execution_count": 3,
   "id": "698f2f46",
   "metadata": {},
   "outputs": [
    {
     "data": {
      "text/html": [
       "<div>\n",
       "<style scoped>\n",
       "    .dataframe tbody tr th:only-of-type {\n",
       "        vertical-align: middle;\n",
       "    }\n",
       "\n",
       "    .dataframe tbody tr th {\n",
       "        vertical-align: top;\n",
       "    }\n",
       "\n",
       "    .dataframe thead th {\n",
       "        text-align: right;\n",
       "    }\n",
       "</style>\n",
       "<table border=\"1\" class=\"dataframe\">\n",
       "  <thead>\n",
       "    <tr style=\"text-align: right;\">\n",
       "      <th></th>\n",
       "      <th>Country</th>\n",
       "      <th>Capital</th>\n",
       "      <th>Elevation (m)</th>\n",
       "    </tr>\n",
       "  </thead>\n",
       "  <tbody>\n",
       "    <tr>\n",
       "      <th>0</th>\n",
       "      <td>Bolivia</td>\n",
       "      <td>La Paz</td>\n",
       "      <td>3,640</td>\n",
       "    </tr>\n",
       "    <tr>\n",
       "      <th>1</th>\n",
       "      <td>Ecuador</td>\n",
       "      <td>Quito</td>\n",
       "      <td>2,850</td>\n",
       "    </tr>\n",
       "    <tr>\n",
       "      <th>2</th>\n",
       "      <td>Colombia</td>\n",
       "      <td>Bogotá</td>\n",
       "      <td>2,625</td>\n",
       "    </tr>\n",
       "    <tr>\n",
       "      <th>3</th>\n",
       "      <td>Ethiopia</td>\n",
       "      <td>Addis Ababa</td>\n",
       "      <td>2,355</td>\n",
       "    </tr>\n",
       "    <tr>\n",
       "      <th>4</th>\n",
       "      <td>Bhutan</td>\n",
       "      <td>Thimphu</td>\n",
       "      <td>2,334</td>\n",
       "    </tr>\n",
       "  </tbody>\n",
       "</table>\n",
       "</div>"
      ],
      "text/plain": [
       "     Country      Capital Elevation (m)\n",
       "0    Bolivia       La Paz         3,640\n",
       "1    Ecuador        Quito         2,850\n",
       "2   Colombia       Bogotá         2,625\n",
       "3   Ethiopia  Addis Ababa         2,355\n",
       "4     Bhutan      Thimphu         2,334"
      ]
     },
     "execution_count": 3,
     "metadata": {},
     "output_type": "execute_result"
    }
   ],
   "source": [
    "df.Country = df.Country.apply(lambda x:x.split('\\n')[0])\n",
    "df.Capital = df.Capital.apply(lambda x:x.split('\\n')[0])\n",
    "df.drop('Elevation (ft)', axis=1, inplace=True)\n",
    "df.head()"
   ]
  },
  {
   "cell_type": "code",
   "execution_count": 4,
   "id": "b8aef0fd",
   "metadata": {},
   "outputs": [
    {
     "name": "stdout",
     "output_type": "stream",
     "text": [
      "<class 'pandas.core.frame.DataFrame'>\n",
      "RangeIndex: 195 entries, 0 to 194\n",
      "Data columns (total 3 columns):\n",
      " #   Column         Non-Null Count  Dtype \n",
      "---  ------         --------------  ----- \n",
      " 0   Country        195 non-null    object\n",
      " 1   Capital        195 non-null    object\n",
      " 2   Elevation (m)  195 non-null    object\n",
      "dtypes: object(3)\n",
      "memory usage: 4.7+ KB\n"
     ]
    }
   ],
   "source": [
    "df.info()"
   ]
  },
  {
   "cell_type": "code",
   "execution_count": 5,
   "id": "d5913f0b",
   "metadata": {},
   "outputs": [
    {
     "data": {
      "text/html": [
       "<div>\n",
       "<style scoped>\n",
       "    .dataframe tbody tr th:only-of-type {\n",
       "        vertical-align: middle;\n",
       "    }\n",
       "\n",
       "    .dataframe tbody tr th {\n",
       "        vertical-align: top;\n",
       "    }\n",
       "\n",
       "    .dataframe thead th {\n",
       "        text-align: right;\n",
       "    }\n",
       "</style>\n",
       "<table border=\"1\" class=\"dataframe\">\n",
       "  <thead>\n",
       "    <tr style=\"text-align: right;\">\n",
       "      <th></th>\n",
       "      <th>Country</th>\n",
       "      <th>City</th>\n",
       "      <th>Elevation</th>\n",
       "    </tr>\n",
       "  </thead>\n",
       "  <tbody>\n",
       "    <tr>\n",
       "      <th>0</th>\n",
       "      <td>Bolivia</td>\n",
       "      <td>La Paz</td>\n",
       "      <td>3640</td>\n",
       "    </tr>\n",
       "    <tr>\n",
       "      <th>1</th>\n",
       "      <td>Ecuador</td>\n",
       "      <td>Quito</td>\n",
       "      <td>2850</td>\n",
       "    </tr>\n",
       "    <tr>\n",
       "      <th>2</th>\n",
       "      <td>Colombia</td>\n",
       "      <td>Bogotá</td>\n",
       "      <td>2625</td>\n",
       "    </tr>\n",
       "    <tr>\n",
       "      <th>3</th>\n",
       "      <td>Ethiopia</td>\n",
       "      <td>Addis Ababa</td>\n",
       "      <td>2355</td>\n",
       "    </tr>\n",
       "    <tr>\n",
       "      <th>4</th>\n",
       "      <td>Bhutan</td>\n",
       "      <td>Thimphu</td>\n",
       "      <td>2334</td>\n",
       "    </tr>\n",
       "  </tbody>\n",
       "</table>\n",
       "</div>"
      ],
      "text/plain": [
       "     Country         City  Elevation\n",
       "0    Bolivia       La Paz       3640\n",
       "1    Ecuador        Quito       2850\n",
       "2   Colombia       Bogotá       2625\n",
       "3   Ethiopia  Addis Ababa       2355\n",
       "4     Bhutan      Thimphu       2334"
      ]
     },
     "execution_count": 5,
     "metadata": {},
     "output_type": "execute_result"
    }
   ],
   "source": [
    "df.columns = ['Country', 'City', 'Elevation']\n",
    "df.Elevation = df.Elevation.apply(lambda x:x.replace(',', ''))\n",
    "df.Elevation = df.Elevation.apply(lambda x:x.split(' ')[0])\n",
    "df.Elevation = df.Elevation.astype(int)\n",
    "df.head()"
   ]
  },
  {
   "cell_type": "markdown",
   "id": "353c088c",
   "metadata": {},
   "source": [
    "## Otras ciudades"
   ]
  },
  {
   "cell_type": "code",
   "execution_count": 6,
   "id": "70d0c612",
   "metadata": {},
   "outputs": [],
   "source": [
    "df2 = get_df2('https://en.wikipedia.org/wiki/List_of_cities_by_elevation')"
   ]
  },
  {
   "cell_type": "code",
   "execution_count": 7,
   "id": "b7fe66b6",
   "metadata": {},
   "outputs": [
    {
     "data": {
      "text/html": [
       "<div>\n",
       "<style scoped>\n",
       "    .dataframe tbody tr th:only-of-type {\n",
       "        vertical-align: middle;\n",
       "    }\n",
       "\n",
       "    .dataframe tbody tr th {\n",
       "        vertical-align: top;\n",
       "    }\n",
       "\n",
       "    .dataframe thead th {\n",
       "        text-align: right;\n",
       "    }\n",
       "</style>\n",
       "<table border=\"1\" class=\"dataframe\">\n",
       "  <thead>\n",
       "    <tr style=\"text-align: right;\">\n",
       "      <th></th>\n",
       "      <th>Country</th>\n",
       "      <th>City</th>\n",
       "      <th>Continental</th>\n",
       "      <th>Latitude</th>\n",
       "      <th>Longitude</th>\n",
       "      <th>Population</th>\n",
       "      <th>Elevation</th>\n",
       "    </tr>\n",
       "  </thead>\n",
       "  <tbody>\n",
       "    <tr>\n",
       "      <th>0</th>\n",
       "      <td>Nepal</td>\n",
       "      <td>Pokhara</td>\n",
       "      <td>Asia</td>\n",
       "      <td>N28.2096</td>\n",
       "      <td>E83.9856</td>\n",
       "      <td>523,000</td>\n",
       "      <td>822</td>\n",
       "    </tr>\n",
       "    <tr>\n",
       "      <th>1</th>\n",
       "      <td>South Africa</td>\n",
       "      <td>Bloemfontein</td>\n",
       "      <td>Africa</td>\n",
       "      <td>S29.116667</td>\n",
       "      <td>E026.216667</td>\n",
       "      <td>747,431</td>\n",
       "      <td>1,395</td>\n",
       "    </tr>\n",
       "    <tr>\n",
       "      <th>2</th>\n",
       "      <td>China</td>\n",
       "      <td>Shanghai</td>\n",
       "      <td>Asia</td>\n",
       "      <td>N31.2304</td>\n",
       "      <td>E121.4737</td>\n",
       "      <td>26,320,000</td>\n",
       "      <td>122</td>\n",
       "    </tr>\n",
       "    <tr>\n",
       "      <th>3</th>\n",
       "      <td>Nepal</td>\n",
       "      <td>Butwal</td>\n",
       "      <td>Asia</td>\n",
       "      <td>N27.6866</td>\n",
       "      <td>E83.4323</td>\n",
       "      <td>120,982</td>\n",
       "      <td>150</td>\n",
       "    </tr>\n",
       "    <tr>\n",
       "      <th>4</th>\n",
       "      <td>Italy</td>\n",
       "      <td>Milan</td>\n",
       "      <td>Europe</td>\n",
       "      <td>N45.4625</td>\n",
       "      <td>E9.186389</td>\n",
       "      <td>1,378,689</td>\n",
       "      <td>122</td>\n",
       "    </tr>\n",
       "  </tbody>\n",
       "</table>\n",
       "</div>"
      ],
      "text/plain": [
       "        Country          City Continental    Latitude    Longitude  \\\n",
       "0         Nepal       Pokhara        Asia    N28.2096     E83.9856   \n",
       "1  South Africa  Bloemfontein      Africa  S29.116667  E026.216667   \n",
       "2         China      Shanghai        Asia    N31.2304    E121.4737   \n",
       "3         Nepal        Butwal        Asia    N27.6866     E83.4323   \n",
       "4         Italy         Milan      Europe    N45.4625    E9.186389   \n",
       "\n",
       "   Population Elevation  \n",
       "0     523,000       822  \n",
       "1     747,431     1,395  \n",
       "2  26,320,000       122  \n",
       "3     120,982       150  \n",
       "4   1,378,689       122  "
      ]
     },
     "execution_count": 7,
     "metadata": {},
     "output_type": "execute_result"
    }
   ],
   "source": [
    "df2.columns = ['Country', 'City', 'Continental', 'Latitude', 'Longitude', 'Population', 'Elevation']\n",
    "df2.head()"
   ]
  },
  {
   "cell_type": "code",
   "execution_count": 8,
   "id": "53e3b0ab",
   "metadata": {},
   "outputs": [
    {
     "data": {
      "text/html": [
       "<div>\n",
       "<style scoped>\n",
       "    .dataframe tbody tr th:only-of-type {\n",
       "        vertical-align: middle;\n",
       "    }\n",
       "\n",
       "    .dataframe tbody tr th {\n",
       "        vertical-align: top;\n",
       "    }\n",
       "\n",
       "    .dataframe thead th {\n",
       "        text-align: right;\n",
       "    }\n",
       "</style>\n",
       "<table border=\"1\" class=\"dataframe\">\n",
       "  <thead>\n",
       "    <tr style=\"text-align: right;\">\n",
       "      <th></th>\n",
       "      <th>Country</th>\n",
       "      <th>City</th>\n",
       "      <th>Continental</th>\n",
       "      <th>Latitude</th>\n",
       "      <th>Longitude</th>\n",
       "      <th>Population</th>\n",
       "      <th>Elevation</th>\n",
       "    </tr>\n",
       "  </thead>\n",
       "  <tbody>\n",
       "    <tr>\n",
       "      <th>0</th>\n",
       "      <td>Nepal</td>\n",
       "      <td>Pokhara</td>\n",
       "      <td>Asia</td>\n",
       "      <td>N28.2096</td>\n",
       "      <td>E83.9856</td>\n",
       "      <td>523,000</td>\n",
       "      <td>822</td>\n",
       "    </tr>\n",
       "    <tr>\n",
       "      <th>1</th>\n",
       "      <td>South Africa</td>\n",
       "      <td>Bloemfontein</td>\n",
       "      <td>Africa</td>\n",
       "      <td>S29.116667</td>\n",
       "      <td>E026.216667</td>\n",
       "      <td>747,431</td>\n",
       "      <td>1,395</td>\n",
       "    </tr>\n",
       "    <tr>\n",
       "      <th>2</th>\n",
       "      <td>China</td>\n",
       "      <td>Shanghai</td>\n",
       "      <td>Asia</td>\n",
       "      <td>N31.2304</td>\n",
       "      <td>E121.4737</td>\n",
       "      <td>26,320,000</td>\n",
       "      <td>122</td>\n",
       "    </tr>\n",
       "    <tr>\n",
       "      <th>3</th>\n",
       "      <td>Nepal</td>\n",
       "      <td>Butwal</td>\n",
       "      <td>Asia</td>\n",
       "      <td>N27.6866</td>\n",
       "      <td>E83.4323</td>\n",
       "      <td>120,982</td>\n",
       "      <td>150</td>\n",
       "    </tr>\n",
       "    <tr>\n",
       "      <th>4</th>\n",
       "      <td>Italy</td>\n",
       "      <td>Milan</td>\n",
       "      <td>Europe</td>\n",
       "      <td>N45.4625</td>\n",
       "      <td>E9.186389</td>\n",
       "      <td>1,378,689</td>\n",
       "      <td>122</td>\n",
       "    </tr>\n",
       "  </tbody>\n",
       "</table>\n",
       "</div>"
      ],
      "text/plain": [
       "        Country          City Continental    Latitude    Longitude  \\\n",
       "0         Nepal       Pokhara        Asia    N28.2096     E83.9856   \n",
       "1  South Africa  Bloemfontein      Africa  S29.116667  E026.216667   \n",
       "2         China      Shanghai        Asia    N31.2304    E121.4737   \n",
       "3         Nepal        Butwal        Asia    N27.6866     E83.4323   \n",
       "4         Italy         Milan      Europe    N45.4625    E9.186389   \n",
       "\n",
       "   Population Elevation  \n",
       "0     523,000       822  \n",
       "1     747,431     1,395  \n",
       "2  26,320,000       122  \n",
       "3     120,982       150  \n",
       "4   1,378,689       122  "
      ]
     },
     "execution_count": 8,
     "metadata": {},
     "output_type": "execute_result"
    }
   ],
   "source": [
    "df2.dropna(inplace = True)\n",
    "df2.reset_index()\n",
    "df2.head()"
   ]
  },
  {
   "cell_type": "code",
   "execution_count": 9,
   "id": "1d306cec",
   "metadata": {},
   "outputs": [
    {
     "name": "stdout",
     "output_type": "stream",
     "text": [
      "<class 'pandas.core.frame.DataFrame'>\n",
      "Int64Index: 61 entries, 0 to 198\n",
      "Data columns (total 7 columns):\n",
      " #   Column       Non-Null Count  Dtype \n",
      "---  ------       --------------  ----- \n",
      " 0   Country      61 non-null     object\n",
      " 1   City         61 non-null     object\n",
      " 2   Continental  61 non-null     object\n",
      " 3   Latitude     61 non-null     object\n",
      " 4   Longitude    61 non-null     object\n",
      " 5   Population   61 non-null     object\n",
      " 6   Elevation    61 non-null     object\n",
      "dtypes: object(7)\n",
      "memory usage: 3.8+ KB\n"
     ]
    }
   ],
   "source": [
    "df2.info()"
   ]
  },
  {
   "cell_type": "code",
   "execution_count": 10,
   "id": "3dbb4707",
   "metadata": {},
   "outputs": [
    {
     "data": {
      "text/html": [
       "<div>\n",
       "<style scoped>\n",
       "    .dataframe tbody tr th:only-of-type {\n",
       "        vertical-align: middle;\n",
       "    }\n",
       "\n",
       "    .dataframe tbody tr th {\n",
       "        vertical-align: top;\n",
       "    }\n",
       "\n",
       "    .dataframe thead th {\n",
       "        text-align: right;\n",
       "    }\n",
       "</style>\n",
       "<table border=\"1\" class=\"dataframe\">\n",
       "  <thead>\n",
       "    <tr style=\"text-align: right;\">\n",
       "      <th></th>\n",
       "      <th>Country</th>\n",
       "      <th>City</th>\n",
       "      <th>Continental</th>\n",
       "      <th>Latitude</th>\n",
       "      <th>Longitude</th>\n",
       "      <th>Population</th>\n",
       "      <th>Elevation</th>\n",
       "    </tr>\n",
       "  </thead>\n",
       "  <tbody>\n",
       "    <tr>\n",
       "      <th>0</th>\n",
       "      <td>Nepal</td>\n",
       "      <td>Pokhara</td>\n",
       "      <td>Asia</td>\n",
       "      <td>N28.2096</td>\n",
       "      <td>E83.9856</td>\n",
       "      <td>523000</td>\n",
       "      <td>822</td>\n",
       "    </tr>\n",
       "    <tr>\n",
       "      <th>1</th>\n",
       "      <td>South Africa</td>\n",
       "      <td>Bloemfontein</td>\n",
       "      <td>Africa</td>\n",
       "      <td>S29.116667</td>\n",
       "      <td>E026.216667</td>\n",
       "      <td>747431</td>\n",
       "      <td>1395</td>\n",
       "    </tr>\n",
       "    <tr>\n",
       "      <th>2</th>\n",
       "      <td>China</td>\n",
       "      <td>Shanghai</td>\n",
       "      <td>Asia</td>\n",
       "      <td>N31.2304</td>\n",
       "      <td>E121.4737</td>\n",
       "      <td>26320000</td>\n",
       "      <td>122</td>\n",
       "    </tr>\n",
       "    <tr>\n",
       "      <th>3</th>\n",
       "      <td>Nepal</td>\n",
       "      <td>Butwal</td>\n",
       "      <td>Asia</td>\n",
       "      <td>N27.6866</td>\n",
       "      <td>E83.4323</td>\n",
       "      <td>120982</td>\n",
       "      <td>150</td>\n",
       "    </tr>\n",
       "    <tr>\n",
       "      <th>4</th>\n",
       "      <td>Italy</td>\n",
       "      <td>Milan</td>\n",
       "      <td>Europe</td>\n",
       "      <td>N45.4625</td>\n",
       "      <td>E9.186389</td>\n",
       "      <td>1378689</td>\n",
       "      <td>122</td>\n",
       "    </tr>\n",
       "  </tbody>\n",
       "</table>\n",
       "</div>"
      ],
      "text/plain": [
       "        Country          City Continental    Latitude    Longitude Population  \\\n",
       "0         Nepal       Pokhara        Asia    N28.2096     E83.9856     523000   \n",
       "1  South Africa  Bloemfontein      Africa  S29.116667  E026.216667     747431   \n",
       "2         China      Shanghai        Asia    N31.2304    E121.4737   26320000   \n",
       "3         Nepal        Butwal        Asia    N27.6866     E83.4323     120982   \n",
       "4         Italy         Milan      Europe    N45.4625    E9.186389    1378689   \n",
       "\n",
       "  Elevation  \n",
       "0       822  \n",
       "1      1395  \n",
       "2       122  \n",
       "3       150  \n",
       "4       122  "
      ]
     },
     "execution_count": 10,
     "metadata": {},
     "output_type": "execute_result"
    }
   ],
   "source": [
    "df2.Population = df2.Population.apply(lambda x:x.replace(',', ''))\n",
    "df2.Elevation = df2.Elevation.apply(lambda x:x.replace(',', ''))\n",
    "df2.head()"
   ]
  },
  {
   "cell_type": "code",
   "execution_count": 11,
   "id": "6c5c5a7f",
   "metadata": {},
   "outputs": [],
   "source": [
    "a = df2[df2.Elevation=='']\n",
    "df2.drop(65, inplace=True, axis=0)"
   ]
  },
  {
   "cell_type": "code",
   "execution_count": 12,
   "id": "cfdede0c",
   "metadata": {},
   "outputs": [
    {
     "data": {
      "text/html": [
       "<div>\n",
       "<style scoped>\n",
       "    .dataframe tbody tr th:only-of-type {\n",
       "        vertical-align: middle;\n",
       "    }\n",
       "\n",
       "    .dataframe tbody tr th {\n",
       "        vertical-align: top;\n",
       "    }\n",
       "\n",
       "    .dataframe thead th {\n",
       "        text-align: right;\n",
       "    }\n",
       "</style>\n",
       "<table border=\"1\" class=\"dataframe\">\n",
       "  <thead>\n",
       "    <tr style=\"text-align: right;\">\n",
       "      <th></th>\n",
       "      <th>Country</th>\n",
       "      <th>City</th>\n",
       "      <th>Continental</th>\n",
       "      <th>Latitude</th>\n",
       "      <th>Longitude</th>\n",
       "      <th>Population</th>\n",
       "      <th>Elevation</th>\n",
       "    </tr>\n",
       "  </thead>\n",
       "  <tbody>\n",
       "    <tr>\n",
       "      <th>0</th>\n",
       "      <td>Nepal</td>\n",
       "      <td>Pokhara</td>\n",
       "      <td>Asia</td>\n",
       "      <td>N28.2096</td>\n",
       "      <td>E83.9856</td>\n",
       "      <td>523000</td>\n",
       "      <td>822</td>\n",
       "    </tr>\n",
       "    <tr>\n",
       "      <th>1</th>\n",
       "      <td>South Africa</td>\n",
       "      <td>Bloemfontein</td>\n",
       "      <td>Africa</td>\n",
       "      <td>S29.116667</td>\n",
       "      <td>E026.216667</td>\n",
       "      <td>747431</td>\n",
       "      <td>1395</td>\n",
       "    </tr>\n",
       "    <tr>\n",
       "      <th>2</th>\n",
       "      <td>China</td>\n",
       "      <td>Shanghai</td>\n",
       "      <td>Asia</td>\n",
       "      <td>N31.2304</td>\n",
       "      <td>E121.4737</td>\n",
       "      <td>26320000</td>\n",
       "      <td>122</td>\n",
       "    </tr>\n",
       "    <tr>\n",
       "      <th>3</th>\n",
       "      <td>Nepal</td>\n",
       "      <td>Butwal</td>\n",
       "      <td>Asia</td>\n",
       "      <td>N27.6866</td>\n",
       "      <td>E83.4323</td>\n",
       "      <td>120982</td>\n",
       "      <td>150</td>\n",
       "    </tr>\n",
       "    <tr>\n",
       "      <th>4</th>\n",
       "      <td>Italy</td>\n",
       "      <td>Milan</td>\n",
       "      <td>Europe</td>\n",
       "      <td>N45.4625</td>\n",
       "      <td>E9.186389</td>\n",
       "      <td>1378689</td>\n",
       "      <td>122</td>\n",
       "    </tr>\n",
       "  </tbody>\n",
       "</table>\n",
       "</div>"
      ],
      "text/plain": [
       "        Country          City Continental    Latitude    Longitude Population  \\\n",
       "0         Nepal       Pokhara        Asia    N28.2096     E83.9856     523000   \n",
       "1  South Africa  Bloemfontein      Africa  S29.116667  E026.216667     747431   \n",
       "2         China      Shanghai        Asia    N31.2304    E121.4737   26320000   \n",
       "3         Nepal        Butwal        Asia    N27.6866     E83.4323     120982   \n",
       "4         Italy         Milan      Europe    N45.4625    E9.186389    1378689   \n",
       "\n",
       "  Elevation  \n",
       "0       822  \n",
       "1      1395  \n",
       "2       122  \n",
       "3       150  \n",
       "4       122  "
      ]
     },
     "execution_count": 12,
     "metadata": {},
     "output_type": "execute_result"
    }
   ],
   "source": [
    "df2.reset_index()\n",
    "df2.head()"
   ]
  },
  {
   "cell_type": "code",
   "execution_count": 13,
   "id": "a75e38a0",
   "metadata": {},
   "outputs": [
    {
     "name": "stdout",
     "output_type": "stream",
     "text": [
      "<class 'pandas.core.frame.DataFrame'>\n",
      "Int64Index: 60 entries, 0 to 198\n",
      "Data columns (total 7 columns):\n",
      " #   Column       Non-Null Count  Dtype \n",
      "---  ------       --------------  ----- \n",
      " 0   Country      60 non-null     object\n",
      " 1   City         60 non-null     object\n",
      " 2   Continental  60 non-null     object\n",
      " 3   Latitude     60 non-null     object\n",
      " 4   Longitude    60 non-null     object\n",
      " 5   Population   60 non-null     int64 \n",
      " 6   Elevation    60 non-null     int64 \n",
      "dtypes: int64(2), object(5)\n",
      "memory usage: 3.8+ KB\n"
     ]
    }
   ],
   "source": [
    "df2.Elevation = df2.Elevation.apply(lambda x:x.split(' ')[0]).astype(int)\n",
    "df2.Population = df2.Population.astype(int)\n",
    "df2.info()"
   ]
  },
  {
   "cell_type": "code",
   "execution_count": 14,
   "id": "3983cd5b",
   "metadata": {},
   "outputs": [
    {
     "name": "stdout",
     "output_type": "stream",
     "text": [
      "<class 'pandas.core.frame.DataFrame'>\n",
      "Int64Index: 255 entries, 0 to 194\n",
      "Data columns (total 7 columns):\n",
      " #   Column       Non-Null Count  Dtype  \n",
      "---  ------       --------------  -----  \n",
      " 0   Country      255 non-null    object \n",
      " 1   City         255 non-null    object \n",
      " 2   Continental  60 non-null     object \n",
      " 3   Latitude     60 non-null     object \n",
      " 4   Longitude    60 non-null     object \n",
      " 5   Population   60 non-null     float64\n",
      " 6   Elevation    255 non-null    int64  \n",
      "dtypes: float64(1), int64(1), object(5)\n",
      "memory usage: 15.9+ KB\n"
     ]
    }
   ],
   "source": [
    "# mirar cómo concatenar ambos dataframes\n",
    "\n",
    "big_df = pd.concat([df2, df], axis=0)\n",
    "big_df.info()"
   ]
  },
  {
   "cell_type": "code",
   "execution_count": 15,
   "id": "d57ad0f7",
   "metadata": {},
   "outputs": [
    {
     "data": {
      "text/html": [
       "<div>\n",
       "<style scoped>\n",
       "    .dataframe tbody tr th:only-of-type {\n",
       "        vertical-align: middle;\n",
       "    }\n",
       "\n",
       "    .dataframe tbody tr th {\n",
       "        vertical-align: top;\n",
       "    }\n",
       "\n",
       "    .dataframe thead th {\n",
       "        text-align: right;\n",
       "    }\n",
       "</style>\n",
       "<table border=\"1\" class=\"dataframe\">\n",
       "  <thead>\n",
       "    <tr style=\"text-align: right;\">\n",
       "      <th></th>\n",
       "      <th>Country</th>\n",
       "      <th>City</th>\n",
       "      <th>Latitude</th>\n",
       "      <th>Longitude</th>\n",
       "      <th>Elevation</th>\n",
       "    </tr>\n",
       "  </thead>\n",
       "  <tbody>\n",
       "    <tr>\n",
       "      <th>0</th>\n",
       "      <td>Nepal</td>\n",
       "      <td>Pokhara</td>\n",
       "      <td>N28.2096</td>\n",
       "      <td>E83.9856</td>\n",
       "      <td>822</td>\n",
       "    </tr>\n",
       "    <tr>\n",
       "      <th>1</th>\n",
       "      <td>South Africa</td>\n",
       "      <td>Bloemfontein</td>\n",
       "      <td>S29.116667</td>\n",
       "      <td>E026.216667</td>\n",
       "      <td>1395</td>\n",
       "    </tr>\n",
       "    <tr>\n",
       "      <th>2</th>\n",
       "      <td>China</td>\n",
       "      <td>Shanghai</td>\n",
       "      <td>N31.2304</td>\n",
       "      <td>E121.4737</td>\n",
       "      <td>122</td>\n",
       "    </tr>\n",
       "    <tr>\n",
       "      <th>3</th>\n",
       "      <td>Nepal</td>\n",
       "      <td>Butwal</td>\n",
       "      <td>N27.6866</td>\n",
       "      <td>E83.4323</td>\n",
       "      <td>150</td>\n",
       "    </tr>\n",
       "    <tr>\n",
       "      <th>4</th>\n",
       "      <td>Italy</td>\n",
       "      <td>Milan</td>\n",
       "      <td>N45.4625</td>\n",
       "      <td>E9.186389</td>\n",
       "      <td>122</td>\n",
       "    </tr>\n",
       "  </tbody>\n",
       "</table>\n",
       "</div>"
      ],
      "text/plain": [
       "        Country          City    Latitude    Longitude  Elevation\n",
       "0         Nepal       Pokhara    N28.2096     E83.9856        822\n",
       "1  South Africa  Bloemfontein  S29.116667  E026.216667       1395\n",
       "2         China      Shanghai    N31.2304    E121.4737        122\n",
       "3         Nepal        Butwal    N27.6866     E83.4323        150\n",
       "4         Italy         Milan    N45.4625    E9.186389        122"
      ]
     },
     "execution_count": 15,
     "metadata": {},
     "output_type": "execute_result"
    }
   ],
   "source": [
    "big_df.drop(['Continental', 'Population'], axis=1, inplace=True)\n",
    "big_df.head()"
   ]
  },
  {
   "cell_type": "code",
   "execution_count": 16,
   "id": "e022b247",
   "metadata": {},
   "outputs": [],
   "source": [
    "big_df.Longitude = big_df.Longitude.fillna('_Unknown')\n",
    "big_df.Latitude = big_df.Latitude.fillna('_Unknown')"
   ]
  },
  {
   "cell_type": "code",
   "execution_count": 17,
   "id": "7869c87e",
   "metadata": {},
   "outputs": [
    {
     "name": "stdout",
     "output_type": "stream",
     "text": [
      "<class 'pandas.core.frame.DataFrame'>\n",
      "Int64Index: 255 entries, 0 to 194\n",
      "Data columns (total 5 columns):\n",
      " #   Column     Non-Null Count  Dtype \n",
      "---  ------     --------------  ----- \n",
      " 0   Country    255 non-null    object\n",
      " 1   City       255 non-null    object\n",
      " 2   Latitude   255 non-null    object\n",
      " 3   Longitude  255 non-null    object\n",
      " 4   Elevation  255 non-null    int64 \n",
      "dtypes: int64(1), object(4)\n",
      "memory usage: 12.0+ KB\n"
     ]
    }
   ],
   "source": [
    "big_df.Longitude = big_df.Longitude.astype(str)\n",
    "big_df.Latitude = big_df.Latitude.astype(str)\n",
    "big_df.info()"
   ]
  },
  {
   "cell_type": "code",
   "execution_count": 18,
   "id": "641a7094",
   "metadata": {},
   "outputs": [
    {
     "data": {
      "text/html": [
       "<div>\n",
       "<style scoped>\n",
       "    .dataframe tbody tr th:only-of-type {\n",
       "        vertical-align: middle;\n",
       "    }\n",
       "\n",
       "    .dataframe tbody tr th {\n",
       "        vertical-align: top;\n",
       "    }\n",
       "\n",
       "    .dataframe thead th {\n",
       "        text-align: right;\n",
       "    }\n",
       "</style>\n",
       "<table border=\"1\" class=\"dataframe\">\n",
       "  <thead>\n",
       "    <tr style=\"text-align: right;\">\n",
       "      <th></th>\n",
       "      <th>Country</th>\n",
       "      <th>City</th>\n",
       "      <th>Latitude</th>\n",
       "      <th>Longitude</th>\n",
       "      <th>Elevation</th>\n",
       "    </tr>\n",
       "  </thead>\n",
       "  <tbody>\n",
       "    <tr>\n",
       "      <th>0</th>\n",
       "      <td>Nepal</td>\n",
       "      <td>Pokhara</td>\n",
       "      <td>28.2096</td>\n",
       "      <td>83.9856</td>\n",
       "      <td>822</td>\n",
       "    </tr>\n",
       "    <tr>\n",
       "      <th>1</th>\n",
       "      <td>South Africa</td>\n",
       "      <td>Bloemfontein</td>\n",
       "      <td>29.116667</td>\n",
       "      <td>026.216667</td>\n",
       "      <td>1395</td>\n",
       "    </tr>\n",
       "    <tr>\n",
       "      <th>2</th>\n",
       "      <td>China</td>\n",
       "      <td>Shanghai</td>\n",
       "      <td>31.2304</td>\n",
       "      <td>121.4737</td>\n",
       "      <td>122</td>\n",
       "    </tr>\n",
       "    <tr>\n",
       "      <th>3</th>\n",
       "      <td>Nepal</td>\n",
       "      <td>Butwal</td>\n",
       "      <td>27.6866</td>\n",
       "      <td>83.4323</td>\n",
       "      <td>150</td>\n",
       "    </tr>\n",
       "    <tr>\n",
       "      <th>4</th>\n",
       "      <td>Italy</td>\n",
       "      <td>Milan</td>\n",
       "      <td>45.4625</td>\n",
       "      <td>9.186389</td>\n",
       "      <td>122</td>\n",
       "    </tr>\n",
       "  </tbody>\n",
       "</table>\n",
       "</div>"
      ],
      "text/plain": [
       "        Country          City   Latitude   Longitude  Elevation\n",
       "0         Nepal       Pokhara    28.2096     83.9856        822\n",
       "1  South Africa  Bloemfontein  29.116667  026.216667       1395\n",
       "2         China      Shanghai    31.2304    121.4737        122\n",
       "3         Nepal        Butwal    27.6866     83.4323        150\n",
       "4         Italy         Milan    45.4625    9.186389        122"
      ]
     },
     "execution_count": 18,
     "metadata": {},
     "output_type": "execute_result"
    }
   ],
   "source": [
    "big_df.Latitude = big_df.Latitude.apply(lambda x:x[1:])\n",
    "big_df.Longitude = big_df.Longitude.apply(lambda x:x[1:])\n",
    "    \n",
    "big_df.head()"
   ]
  },
  {
   "cell_type": "code",
   "execution_count": 19,
   "id": "4d48c15c",
   "metadata": {},
   "outputs": [],
   "source": [
    "big_df.Latitude = big_df.Latitude.apply(lambda x:x.replace('°', '').replace('′', '').replace('″',''))\n",
    "big_df.Longitude = big_df.Longitude.apply(lambda x:x.replace('°', '').replace('′', '').replace('″',''))"
   ]
  },
  {
   "cell_type": "code",
   "execution_count": 20,
   "id": "fb43acde",
   "metadata": {},
   "outputs": [
    {
     "name": "stdout",
     "output_type": "stream",
     "text": [
      "<class 'pandas.core.frame.DataFrame'>\n",
      "Int64Index: 255 entries, 0 to 194\n",
      "Data columns (total 5 columns):\n",
      " #   Column     Non-Null Count  Dtype \n",
      "---  ------     --------------  ----- \n",
      " 0   Country    255 non-null    object\n",
      " 1   City       255 non-null    object\n",
      " 2   Latitude   255 non-null    object\n",
      " 3   Longitude  255 non-null    object\n",
      " 4   Elevation  255 non-null    int64 \n",
      "dtypes: int64(1), object(4)\n",
      "memory usage: 12.0+ KB\n"
     ]
    }
   ],
   "source": [
    "big_df.info()"
   ]
  },
  {
   "cell_type": "code",
   "execution_count": 21,
   "id": "0eeb5f1e",
   "metadata": {},
   "outputs": [
    {
     "data": {
      "text/html": [
       "<div>\n",
       "<style scoped>\n",
       "    .dataframe tbody tr th:only-of-type {\n",
       "        vertical-align: middle;\n",
       "    }\n",
       "\n",
       "    .dataframe tbody tr th {\n",
       "        vertical-align: top;\n",
       "    }\n",
       "\n",
       "    .dataframe thead th {\n",
       "        text-align: right;\n",
       "    }\n",
       "</style>\n",
       "<table border=\"1\" class=\"dataframe\">\n",
       "  <thead>\n",
       "    <tr style=\"text-align: right;\">\n",
       "      <th></th>\n",
       "      <th>Country</th>\n",
       "      <th>City</th>\n",
       "      <th>Latitude</th>\n",
       "      <th>Longitude</th>\n",
       "      <th>Elevation</th>\n",
       "    </tr>\n",
       "  </thead>\n",
       "  <tbody>\n",
       "    <tr>\n",
       "      <th>190</th>\n",
       "      <td>Tonga</td>\n",
       "      <td>Nuku'alofa</td>\n",
       "      <td>Unknown</td>\n",
       "      <td>Unknown</td>\n",
       "      <td>0</td>\n",
       "    </tr>\n",
       "    <tr>\n",
       "      <th>191</th>\n",
       "      <td>Tuvalu</td>\n",
       "      <td>Vaiaku</td>\n",
       "      <td>Unknown</td>\n",
       "      <td>Unknown</td>\n",
       "      <td>0</td>\n",
       "    </tr>\n",
       "    <tr>\n",
       "      <th>192</th>\n",
       "      <td>Vanuatu</td>\n",
       "      <td>Port Vila</td>\n",
       "      <td>Unknown</td>\n",
       "      <td>Unknown</td>\n",
       "      <td>0</td>\n",
       "    </tr>\n",
       "    <tr>\n",
       "      <th>193</th>\n",
       "      <td>Netherlands</td>\n",
       "      <td>Amsterdam</td>\n",
       "      <td>Unknown</td>\n",
       "      <td>Unknown</td>\n",
       "      <td>-2</td>\n",
       "    </tr>\n",
       "    <tr>\n",
       "      <th>194</th>\n",
       "      <td>Azerbaijan</td>\n",
       "      <td>Baku</td>\n",
       "      <td>Unknown</td>\n",
       "      <td>Unknown</td>\n",
       "      <td>-28</td>\n",
       "    </tr>\n",
       "  </tbody>\n",
       "</table>\n",
       "</div>"
      ],
      "text/plain": [
       "          Country        City Latitude Longitude  Elevation\n",
       "190         Tonga  Nuku'alofa  Unknown   Unknown          0\n",
       "191        Tuvalu      Vaiaku  Unknown   Unknown          0\n",
       "192       Vanuatu   Port Vila  Unknown   Unknown          0\n",
       "193   Netherlands   Amsterdam  Unknown   Unknown         -2\n",
       "194    Azerbaijan        Baku  Unknown   Unknown        -28"
      ]
     },
     "execution_count": 21,
     "metadata": {},
     "output_type": "execute_result"
    }
   ],
   "source": [
    "big_df.tail()"
   ]
  },
  {
   "cell_type": "markdown",
   "id": "21516b43",
   "metadata": {},
   "source": [
    "#### Vamos a rellenar las latitudes y longitudes de cada ciudad"
   ]
  },
  {
   "cell_type": "code",
   "execution_count": 22,
   "id": "927df385",
   "metadata": {},
   "outputs": [],
   "source": [
    "#len(big_df.City.unique()) #Vemos que hay ciudades repetidas, entonces hay que eliminar los elementos repetidos"
   ]
  },
  {
   "cell_type": "code",
   "execution_count": 23,
   "id": "74721385",
   "metadata": {},
   "outputs": [
    {
     "data": {
      "text/plain": [
       "\"cols = [['City', 'Location']]\\ndf_def = pd.DataFrame(columns=cols)\\ndf_def.City = list(set(big_df.City))\\ndf_def.shape\""
      ]
     },
     "execution_count": 23,
     "metadata": {},
     "output_type": "execute_result"
    }
   ],
   "source": [
    "'''cols = [['City', 'Location']]\n",
    "df_def = pd.DataFrame(columns=cols)\n",
    "df_def.City = list(set(big_df.City))\n",
    "df_def.shape'''"
   ]
  },
  {
   "cell_type": "code",
   "execution_count": 24,
   "id": "8ea552bb",
   "metadata": {},
   "outputs": [
    {
     "data": {
      "text/plain": [
       "'def getting_loc(city):\\n    geolocator = Nominatim(user_agent=\"kaaiik\")\\n    location = geolocator.geocode(city, timeout=10000)\\n    loc = (location.latitude, location.longitude)\\n    return loc\\n\\ngetting_loc(\\'Dakar\\')'"
      ]
     },
     "execution_count": 24,
     "metadata": {},
     "output_type": "execute_result"
    }
   ],
   "source": [
    "'''def getting_loc(city):\n",
    "    geolocator = Nominatim(user_agent=\"kaaiik\")\n",
    "    location = geolocator.geocode(city, timeout=10000)\n",
    "    loc = (location.latitude, location.longitude)\n",
    "    return loc\n",
    "\n",
    "getting_loc('Dakar')'''"
   ]
  },
  {
   "cell_type": "code",
   "execution_count": 25,
   "id": "53e997d3",
   "metadata": {},
   "outputs": [
    {
     "data": {
      "text/plain": [
       "\"df_def.Location.fillna('Unknown', inplace=True)\\ndf_def.head()\""
      ]
     },
     "execution_count": 25,
     "metadata": {},
     "output_type": "execute_result"
    }
   ],
   "source": [
    "'''df_def.Location.fillna('Unknown', inplace=True)\n",
    "df_def.head()'''"
   ]
  },
  {
   "cell_type": "code",
   "execution_count": 26,
   "id": "eb285f4c",
   "metadata": {},
   "outputs": [
    {
     "data": {
      "text/plain": [
       "\"lst_loc = []\\n\\nfor i in range(df_def.shape[0]):\\n    city = str(df_def.City.loc[i]).split('    ')[1].split('\\n')[0]\\n    loc = get_location(city)\\n    lst_loc.append(loc)\\n    \\nlst_loc\""
      ]
     },
     "execution_count": 26,
     "metadata": {},
     "output_type": "execute_result"
    }
   ],
   "source": [
    "'''lst_loc = []\n",
    "\n",
    "for i in range(df_def.shape[0]):\n",
    "    city = str(df_def.City.loc[i]).split('    ')[1].split('\\n')[0]\n",
    "    loc = get_location(city)\n",
    "    lst_loc.append(loc)\n",
    "    \n",
    "lst_loc'''"
   ]
  },
  {
   "cell_type": "code",
   "execution_count": 27,
   "id": "7db6371d",
   "metadata": {},
   "outputs": [
    {
     "data": {
      "text/plain": [
       "'df_def.Location=lst_loc\\n    \\ndf_def.head()'"
      ]
     },
     "execution_count": 27,
     "metadata": {},
     "output_type": "execute_result"
    }
   ],
   "source": [
    "'''df_def.Location=lst_loc\n",
    "    \n",
    "df_def.head()'''"
   ]
  },
  {
   "cell_type": "code",
   "execution_count": 28,
   "id": "08503093",
   "metadata": {},
   "outputs": [],
   "source": [
    "#df_def.to_csv('../data/locations.csv') #lo exporto porque tarda muchisimo en ejecutar con el geopy"
   ]
  },
  {
   "cell_type": "code",
   "execution_count": 29,
   "id": "eadf4551",
   "metadata": {},
   "outputs": [
    {
     "data": {
      "text/html": [
       "<div>\n",
       "<style scoped>\n",
       "    .dataframe tbody tr th:only-of-type {\n",
       "        vertical-align: middle;\n",
       "    }\n",
       "\n",
       "    .dataframe tbody tr th {\n",
       "        vertical-align: top;\n",
       "    }\n",
       "\n",
       "    .dataframe thead th {\n",
       "        text-align: right;\n",
       "    }\n",
       "</style>\n",
       "<table border=\"1\" class=\"dataframe\">\n",
       "  <thead>\n",
       "    <tr style=\"text-align: right;\">\n",
       "      <th></th>\n",
       "      <th>City</th>\n",
       "      <th>Location</th>\n",
       "    </tr>\n",
       "  </thead>\n",
       "  <tbody>\n",
       "    <tr>\n",
       "      <th>0</th>\n",
       "      <td>Kathmandu</td>\n",
       "      <td>('27.708317', '85.3205817')</td>\n",
       "    </tr>\n",
       "    <tr>\n",
       "      <th>1</th>\n",
       "      <td>Port Vila</td>\n",
       "      <td>('-17.7414972', '168.3150163')</td>\n",
       "    </tr>\n",
       "    <tr>\n",
       "      <th>2</th>\n",
       "      <td>Stockholm</td>\n",
       "      <td>('59.3251172', '18.0710935')</td>\n",
       "    </tr>\n",
       "    <tr>\n",
       "      <th>3</th>\n",
       "      <td>Belgrade</td>\n",
       "      <td>('44.8178131', '20.4568974')</td>\n",
       "    </tr>\n",
       "    <tr>\n",
       "      <th>4</th>\n",
       "      <td>Curitiba</td>\n",
       "      <td>('-25.4295963', '-49.2712724')</td>\n",
       "    </tr>\n",
       "  </tbody>\n",
       "</table>\n",
       "</div>"
      ],
      "text/plain": [
       "        City                        Location\n",
       "0  Kathmandu     ('27.708317', '85.3205817')\n",
       "1  Port Vila  ('-17.7414972', '168.3150163')\n",
       "2  Stockholm    ('59.3251172', '18.0710935')\n",
       "3   Belgrade    ('44.8178131', '20.4568974')\n",
       "4   Curitiba  ('-25.4295963', '-49.2712724')"
      ]
     },
     "execution_count": 29,
     "metadata": {},
     "output_type": "execute_result"
    }
   ],
   "source": [
    "df_def = pd.read_csv('../data/locations.csv')\n",
    "df_def.drop('Unnamed: 0', axis=1, inplace=True)\n",
    "df_def.head()"
   ]
  },
  {
   "cell_type": "code",
   "execution_count": 30,
   "id": "30e0a74b",
   "metadata": {},
   "outputs": [
    {
     "name": "stdout",
     "output_type": "stream",
     "text": [
      "<class 'pandas.core.frame.DataFrame'>\n",
      "Int64Index: 228 entries, 0 to 229\n",
      "Data columns (total 2 columns):\n",
      " #   Column    Non-Null Count  Dtype \n",
      "---  ------    --------------  ----- \n",
      " 0   City      228 non-null    object\n",
      " 1   Location  228 non-null    object\n",
      "dtypes: object(2)\n",
      "memory usage: 5.3+ KB\n"
     ]
    }
   ],
   "source": [
    "df_def = df_def.dropna()\n",
    "df_def.info()"
   ]
  },
  {
   "cell_type": "code",
   "execution_count": 31,
   "id": "3e0a3789",
   "metadata": {},
   "outputs": [
    {
     "name": "stdout",
     "output_type": "stream",
     "text": [
      "{'place_id': 285039864, 'licence': 'Data © OpenStreetMap contributors, ODbL 1.0. https://osm.org/copyright', 'osm_type': 'relation', 'osm_id': 5326784, 'boundingbox': ['40.3119774', '40.6437293', '-3.8889539', '-3.5179163'], 'lat': '40.4167047', 'lon': '-3.7035825', 'display_name': 'Madrid, Área metropolitana de Madrid y Corredor del Henares, Community of Madrid, Spain', 'class': 'boundary', 'type': 'administrative', 'importance': 0.8680703794097986, 'icon': 'https://nominatim.openstreetmap.org/ui/mapicons//poi_boundary_administrative.p.20.png'}\n"
     ]
    }
   ],
   "source": [
    "city = 'Madrid'\n",
    "url = f'https://nominatim.openstreetmap.org/search?city={city}&format=json&accept-language=en&zoom=3'\n",
    "\n",
    "result = requests.get(url=url).json()\n",
    "print(result[0])"
   ]
  },
  {
   "cell_type": "code",
   "execution_count": 32,
   "id": "2dc04ef8",
   "metadata": {},
   "outputs": [
    {
     "data": {
      "text/html": [
       "<div>\n",
       "<style scoped>\n",
       "    .dataframe tbody tr th:only-of-type {\n",
       "        vertical-align: middle;\n",
       "    }\n",
       "\n",
       "    .dataframe tbody tr th {\n",
       "        vertical-align: top;\n",
       "    }\n",
       "\n",
       "    .dataframe thead th {\n",
       "        text-align: right;\n",
       "    }\n",
       "</style>\n",
       "<table border=\"1\" class=\"dataframe\">\n",
       "  <thead>\n",
       "    <tr style=\"text-align: right;\">\n",
       "      <th></th>\n",
       "      <th>City</th>\n",
       "      <th>Location</th>\n",
       "    </tr>\n",
       "  </thead>\n",
       "  <tbody>\n",
       "    <tr>\n",
       "      <th>0</th>\n",
       "      <td>Kathmandu</td>\n",
       "      <td>27.708317, 85.3205817</td>\n",
       "    </tr>\n",
       "    <tr>\n",
       "      <th>1</th>\n",
       "      <td>Port Vila</td>\n",
       "      <td>-17.7414972, 168.3150163</td>\n",
       "    </tr>\n",
       "    <tr>\n",
       "      <th>2</th>\n",
       "      <td>Stockholm</td>\n",
       "      <td>59.3251172, 18.0710935</td>\n",
       "    </tr>\n",
       "    <tr>\n",
       "      <th>3</th>\n",
       "      <td>Belgrade</td>\n",
       "      <td>44.8178131, 20.4568974</td>\n",
       "    </tr>\n",
       "    <tr>\n",
       "      <th>4</th>\n",
       "      <td>Curitiba</td>\n",
       "      <td>-25.4295963, -49.2712724</td>\n",
       "    </tr>\n",
       "  </tbody>\n",
       "</table>\n",
       "</div>"
      ],
      "text/plain": [
       "        City                  Location\n",
       "0  Kathmandu     27.708317, 85.3205817\n",
       "1  Port Vila  -17.7414972, 168.3150163\n",
       "2  Stockholm    59.3251172, 18.0710935\n",
       "3   Belgrade    44.8178131, 20.4568974\n",
       "4   Curitiba  -25.4295963, -49.2712724"
      ]
     },
     "execution_count": 32,
     "metadata": {},
     "output_type": "execute_result"
    }
   ],
   "source": [
    "df_def.Location = df_def.Location.apply(lambda x:x.replace('(','').replace(')', '').replace('\\'', ''))\n",
    "df_def.head()"
   ]
  },
  {
   "cell_type": "code",
   "execution_count": 33,
   "id": "523c25e7",
   "metadata": {},
   "outputs": [
    {
     "data": {
      "text/html": [
       "<div>\n",
       "<style scoped>\n",
       "    .dataframe tbody tr th:only-of-type {\n",
       "        vertical-align: middle;\n",
       "    }\n",
       "\n",
       "    .dataframe tbody tr th {\n",
       "        vertical-align: top;\n",
       "    }\n",
       "\n",
       "    .dataframe thead th {\n",
       "        text-align: right;\n",
       "    }\n",
       "</style>\n",
       "<table border=\"1\" class=\"dataframe\">\n",
       "  <thead>\n",
       "    <tr style=\"text-align: right;\">\n",
       "      <th></th>\n",
       "      <th>City</th>\n",
       "      <th>Location</th>\n",
       "    </tr>\n",
       "  </thead>\n",
       "  <tbody>\n",
       "    <tr>\n",
       "      <th>0</th>\n",
       "      <td>Kathmandu</td>\n",
       "      <td>(27.708317, 85.3205817)</td>\n",
       "    </tr>\n",
       "    <tr>\n",
       "      <th>1</th>\n",
       "      <td>Port Vila</td>\n",
       "      <td>(-17.7414972, 168.3150163)</td>\n",
       "    </tr>\n",
       "    <tr>\n",
       "      <th>2</th>\n",
       "      <td>Stockholm</td>\n",
       "      <td>(59.3251172, 18.0710935)</td>\n",
       "    </tr>\n",
       "    <tr>\n",
       "      <th>3</th>\n",
       "      <td>Belgrade</td>\n",
       "      <td>(44.8178131, 20.4568974)</td>\n",
       "    </tr>\n",
       "    <tr>\n",
       "      <th>4</th>\n",
       "      <td>Curitiba</td>\n",
       "      <td>(-25.4295963, -49.2712724)</td>\n",
       "    </tr>\n",
       "  </tbody>\n",
       "</table>\n",
       "</div>"
      ],
      "text/plain": [
       "        City                    Location\n",
       "0  Kathmandu     (27.708317, 85.3205817)\n",
       "1  Port Vila  (-17.7414972, 168.3150163)\n",
       "2  Stockholm    (59.3251172, 18.0710935)\n",
       "3   Belgrade    (44.8178131, 20.4568974)\n",
       "4   Curitiba  (-25.4295963, -49.2712724)"
      ]
     },
     "execution_count": 33,
     "metadata": {},
     "output_type": "execute_result"
    }
   ],
   "source": [
    "df_def.Location = df_def.Location.apply(tupler)\n",
    "df_def.head()"
   ]
  },
  {
   "cell_type": "code",
   "execution_count": 34,
   "id": "240175cc",
   "metadata": {},
   "outputs": [
    {
     "data": {
      "text/html": [
       "<div>\n",
       "<style scoped>\n",
       "    .dataframe tbody tr th:only-of-type {\n",
       "        vertical-align: middle;\n",
       "    }\n",
       "\n",
       "    .dataframe tbody tr th {\n",
       "        vertical-align: top;\n",
       "    }\n",
       "\n",
       "    .dataframe thead th {\n",
       "        text-align: right;\n",
       "    }\n",
       "</style>\n",
       "<table border=\"1\" class=\"dataframe\">\n",
       "  <thead>\n",
       "    <tr style=\"text-align: right;\">\n",
       "      <th></th>\n",
       "      <th>City</th>\n",
       "      <th>Location</th>\n",
       "    </tr>\n",
       "  </thead>\n",
       "  <tbody>\n",
       "    <tr>\n",
       "      <th>0</th>\n",
       "      <td>Kathmandu</td>\n",
       "      <td>(27.708317, 85.3205817)</td>\n",
       "    </tr>\n",
       "    <tr>\n",
       "      <th>1</th>\n",
       "      <td>Port Vila</td>\n",
       "      <td>(-17.7414972, 168.3150163)</td>\n",
       "    </tr>\n",
       "    <tr>\n",
       "      <th>2</th>\n",
       "      <td>Stockholm</td>\n",
       "      <td>(59.3251172, 18.0710935)</td>\n",
       "    </tr>\n",
       "    <tr>\n",
       "      <th>3</th>\n",
       "      <td>Belgrade</td>\n",
       "      <td>(44.8178131, 20.4568974)</td>\n",
       "    </tr>\n",
       "    <tr>\n",
       "      <th>4</th>\n",
       "      <td>Curitiba</td>\n",
       "      <td>(-25.4295963, -49.2712724)</td>\n",
       "    </tr>\n",
       "  </tbody>\n",
       "</table>\n",
       "</div>"
      ],
      "text/plain": [
       "        City                    Location\n",
       "0  Kathmandu     (27.708317, 85.3205817)\n",
       "1  Port Vila  (-17.7414972, 168.3150163)\n",
       "2  Stockholm    (59.3251172, 18.0710935)\n",
       "3   Belgrade    (44.8178131, 20.4568974)\n",
       "4   Curitiba  (-25.4295963, -49.2712724)"
      ]
     },
     "execution_count": 34,
     "metadata": {},
     "output_type": "execute_result"
    }
   ],
   "source": [
    "df_def.Location = df_def.Location.apply(floater)\n",
    "df_def.head()"
   ]
  },
  {
   "cell_type": "code",
   "execution_count": 35,
   "id": "1c58907d",
   "metadata": {},
   "outputs": [
    {
     "data": {
      "text/plain": [
       "0.0"
      ]
     },
     "execution_count": 35,
     "metadata": {},
     "output_type": "execute_result"
    }
   ],
   "source": [
    "def getting_alt(city, cord):\n",
    "    \n",
    "    url = f'https://nominatim.openstreetmap.org/search?city={city}&format=json&accept-language=en&zoom=3'\n",
    "    raw = requests.get(url=url).json()\n",
    "    \n",
    "    loc = Location(city, cord, raw)\n",
    "    alt = loc.altitude\n",
    "    return alt\n",
    "\n",
    "getting_alt('Curitiba', (-25.4295963, -49.2712724))"
   ]
  },
  {
   "cell_type": "code",
   "execution_count": 38,
   "id": "eed777dd",
   "metadata": {},
   "outputs": [],
   "source": [
    "import xarray as xr\n",
    "import cftime\n",
    "\n",
    "units = 'days since 1950-01-01' \n",
    "\n",
    "times = cftime.num2date(np.arange(7), units=units, calendar='365_day')\n",
    "\n",
    "da = xr.DataArray(np.arange(7), coords=[times], dims=['time'], name='a')\n",
    "\n",
    "da.to_netcdf('data-noleap.nc')\n",
    "\n",
    "with xr.set_options(enable_cftimeindex=True):\n",
    "    cftimeindex_enabled = xr.open_dataset('data-noleap.nc')"
   ]
  },
  {
   "cell_type": "code",
   "execution_count": 40,
   "id": "18d8e5e5",
   "metadata": {},
   "outputs": [],
   "source": [
    "ds = xr.open_dataset('../data/sea_level.nc')\n",
    "df = ds.to_dataframe()"
   ]
  },
  {
   "cell_type": "code",
   "execution_count": 46,
   "id": "e18e0be4",
   "metadata": {},
   "outputs": [
    {
     "data": {
      "text/html": [
       "<div>\n",
       "<style scoped>\n",
       "    .dataframe tbody tr th:only-of-type {\n",
       "        vertical-align: middle;\n",
       "    }\n",
       "\n",
       "    .dataframe tbody tr th {\n",
       "        vertical-align: top;\n",
       "    }\n",
       "\n",
       "    .dataframe thead th {\n",
       "        text-align: right;\n",
       "    }\n",
       "</style>\n",
       "<table border=\"1\" class=\"dataframe\">\n",
       "  <thead>\n",
       "    <tr style=\"text-align: right;\">\n",
       "      <th></th>\n",
       "      <th></th>\n",
       "      <th></th>\n",
       "      <th>global_msl</th>\n",
       "      <th>global_msl_trend</th>\n",
       "      <th>global_msl_trend_error</th>\n",
       "    </tr>\n",
       "    <tr>\n",
       "      <th>time</th>\n",
       "      <th>lat</th>\n",
       "      <th>lon</th>\n",
       "      <th></th>\n",
       "      <th></th>\n",
       "      <th></th>\n",
       "    </tr>\n",
       "  </thead>\n",
       "  <tbody>\n",
       "    <tr>\n",
       "      <th rowspan=\"5\" valign=\"top\">1993-01-15 00:00:00</th>\n",
       "      <th rowspan=\"5\" valign=\"top\">-89.875</th>\n",
       "      <th>0.125</th>\n",
       "      <td>-0.001873</td>\n",
       "      <td>2.978008</td>\n",
       "      <td>0.023537</td>\n",
       "    </tr>\n",
       "    <tr>\n",
       "      <th>0.375</th>\n",
       "      <td>-0.001873</td>\n",
       "      <td>2.978008</td>\n",
       "      <td>0.023537</td>\n",
       "    </tr>\n",
       "    <tr>\n",
       "      <th>0.625</th>\n",
       "      <td>-0.001873</td>\n",
       "      <td>2.978008</td>\n",
       "      <td>0.023537</td>\n",
       "    </tr>\n",
       "    <tr>\n",
       "      <th>0.875</th>\n",
       "      <td>-0.001873</td>\n",
       "      <td>2.978008</td>\n",
       "      <td>0.023537</td>\n",
       "    </tr>\n",
       "    <tr>\n",
       "      <th>1.125</th>\n",
       "      <td>-0.001873</td>\n",
       "      <td>2.978008</td>\n",
       "      <td>0.023537</td>\n",
       "    </tr>\n",
       "  </tbody>\n",
       "</table>\n",
       "</div>"
      ],
      "text/plain": [
       "                                   global_msl  global_msl_trend  \\\n",
       "time                lat     lon                                   \n",
       "1993-01-15 00:00:00 -89.875 0.125   -0.001873          2.978008   \n",
       "                            0.375   -0.001873          2.978008   \n",
       "                            0.625   -0.001873          2.978008   \n",
       "                            0.875   -0.001873          2.978008   \n",
       "                            1.125   -0.001873          2.978008   \n",
       "\n",
       "                                   global_msl_trend_error  \n",
       "time                lat     lon                            \n",
       "1993-01-15 00:00:00 -89.875 0.125                0.023537  \n",
       "                            0.375                0.023537  \n",
       "                            0.625                0.023537  \n",
       "                            0.875                0.023537  \n",
       "                            1.125                0.023537  "
      ]
     },
     "execution_count": 46,
     "metadata": {},
     "output_type": "execute_result"
    }
   ],
   "source": [
    "df.head()"
   ]
  },
  {
   "cell_type": "code",
   "execution_count": null,
   "id": "7bf4db4a",
   "metadata": {},
   "outputs": [],
   "source": [
    "indices =df.index\n",
    "indice[:3]"
   ]
  },
  {
   "cell_type": "code",
   "execution_count": null,
   "id": "1d0480f8",
   "metadata": {},
   "outputs": [],
   "source": []
  }
 ],
 "metadata": {
  "kernelspec": {
   "display_name": "Python 3 (ipykernel)",
   "language": "python",
   "name": "python3"
  },
  "language_info": {
   "codemirror_mode": {
    "name": "ipython",
    "version": 3
   },
   "file_extension": ".py",
   "mimetype": "text/x-python",
   "name": "python",
   "nbconvert_exporter": "python",
   "pygments_lexer": "ipython3",
   "version": "3.9.7"
  }
 },
 "nbformat": 4,
 "nbformat_minor": 5
}
